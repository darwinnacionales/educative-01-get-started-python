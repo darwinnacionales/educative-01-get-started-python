{
 "cells": [
  {
   "cell_type": "markdown",
   "id": "bd82e7b7-62e4-4c9f-9064-38c1de34a43e",
   "metadata": {},
   "source": [
    "# Initializing a List"
   ]
  },
  {
   "cell_type": "code",
   "execution_count": 5,
   "id": "84f8ec0b-27fb-48e2-82d5-f3afec57c6ae",
   "metadata": {},
   "outputs": [
    {
     "name": "stdout",
     "output_type": "stream",
     "text": [
      "['apple', 'mango', 'banana']\n",
      "--------------------\n",
      "Empty list: \n",
      "[]\n",
      "\n",
      "Single-valued list: \n",
      "[100]\n",
      "\n",
      "List having duplicate Numbers: \n",
      "[7, 7, 4, 4, 3, 3, 3, 6, 5]\n"
     ]
    }
   ],
   "source": [
    "listOfFruits = [\"apple\",\"mango\",\"banana\"] # Creating a list of strings\n",
    "print(listOfFruits)\n",
    "\n",
    "print('-'*20)\n",
    "\n",
    "list0 = []\n",
    "print(\"Empty list: \")\n",
    "print(list0)\n",
    " \n",
    "list1 = [100]\n",
    "print(\"\\nSingle-valued list: \")\n",
    "print(list1)\n",
    "\n",
    "list2 = [7, 7, 4, 4, 3, 3, 3, 6, 5]\n",
    "print(\"\\nList having duplicate Numbers: \")\n",
    "print(list2)"
   ]
  },
  {
   "cell_type": "markdown",
   "id": "cffe2cfd-ef62-4733-8cc5-6b2a4c79b5cc",
   "metadata": {},
   "source": [
    "# Accessing Individual Values"
   ]
  },
  {
   "cell_type": "code",
   "execution_count": 6,
   "id": "9f61c7a8-094d-4ced-84a4-f45df900e2f8",
   "metadata": {},
   "outputs": [
    {
     "name": "stdout",
     "output_type": "stream",
     "text": [
      "List items in the forward order: \n",
      "The value at index 0: -5\n",
      "The value at index 1: Python\n",
      "The value at index 2: 3.8\n",
      "\n",
      "List items in the backward order: \n",
      "The value at index -1: 3.8\n",
      "The value at index -2: Python\n",
      "The value at index -3: -5\n"
     ]
    }
   ],
   "source": [
    "a = [-5, 'Python', 3.8]\n",
    " \n",
    "print(\"List items in the forward order: \")\n",
    "print(\"The value at index 0:\", a[0])\n",
    "print(\"The value at index 1:\", a[1])\n",
    "print(\"The value at index 2:\", a[2])\n",
    " \n",
    "print(\"\\nList items in the backward order: \")\n",
    "print(\"The value at index -1:\", a[-1])\n",
    "print(\"The value at index -2:\", a[-2])\n",
    "print(\"The value at index -3:\", a[-3])"
   ]
  },
  {
   "cell_type": "markdown",
   "id": "e5c379d1-0504-48eb-adcb-3c8ee3daf097",
   "metadata": {},
   "source": [
    "# Slice the List"
   ]
  },
  {
   "cell_type": "code",
   "execution_count": 7,
   "id": "51351e6e-9fee-4360-8cf9-e2b17a3f0673",
   "metadata": {},
   "outputs": [
    {
     "name": "stdout",
     "output_type": "stream",
     "text": [
      "List of letters: \n",
      "['a', 'b', 'c', 'd', 'e', 'f', 'g', 'h', 'i']\n",
      "\n",
      "Slices of a list: \n",
      "Slice \"[1:]\" from index 1 till the end\n",
      "['b', 'c', 'd', 'e', 'f', 'g', 'h', 'i']\n",
      "Slice \"[-2:]\" from index -2 till the end\n",
      "['h', 'i']\n",
      "Slice \"[:3]\" from start of the list till before index 3\n",
      "['a', 'b', 'c']\n"
     ]
    }
   ],
   "source": [
    "letters = ['a','b','c','d','e','f','g','h','i']\n",
    "print(\"List of letters: \")\n",
    "print(letters)\n",
    " \n",
    "print(\"\\nSlices of a list: \")\n",
    "print('Slice \"[1:]\" from index 1 till the end')\n",
    "print(letters[1:])\n",
    "print('Slice \"[-2:]\" from index -2 till the end')\n",
    "print(letters[-2:])\n",
    " \n",
    "print('Slice \"[:3]\" from start of the list till before index 3')\n",
    "print(letters[:3])"
   ]
  },
  {
   "cell_type": "code",
   "execution_count": 9,
   "id": "ac05b4ef-1e2a-43b3-bc5a-1e662749f4f7",
   "metadata": {},
   "outputs": [
    {
     "name": "stdout",
     "output_type": "stream",
     "text": [
      "List of letters: \n",
      "['a', 'b', 'c', 'd', 'e', 'f', 'g', 'h', 'i']\n",
      "Slice \"[2:7]\" from index 2 till before index 7\n",
      "['c', 'd', 'e', 'f', 'g']\n",
      "Slice \"[2:-4]\" from index 2 till before index -4\n",
      "['c', 'd', 'e']\n",
      "Slice \"[-4:-1]\" from index -4 till before index -1\n",
      "['f', 'g', 'h']\n",
      "Slice \"[-6:8]\" from index -6 till before index 8\n",
      "['d', 'e', 'f', 'g', 'h']\n"
     ]
    }
   ],
   "source": [
    "letters = ['a','b','c','d','e','f','g','h','i']\n",
    "print(\"List of letters: \")\n",
    "print(letters)\n",
    " \n",
    "print('Slice \"[2:7]\" from index 2 till before index 7')\n",
    "print(letters[2:7])\n",
    "print('Slice \"[2:-4]\" from index 2 till before index -4')\n",
    "print(letters[2:-4])\n",
    "print('Slice \"[-4:-1]\" from index -4 till before index -1')\n",
    "print(letters[-4:-1])\n",
    "print('Slice \"[-6:8]\" from index -6 till before index 8')\n",
    "print(letters[-6:8])"
   ]
  },
  {
   "cell_type": "markdown",
   "id": "639d6ac0-f590-4173-a03a-6750ea65b344",
   "metadata": {},
   "source": [
    "---"
   ]
  },
  {
   "cell_type": "markdown",
   "id": "f0901860-eb31-452b-bd6e-933e385d3e5b",
   "metadata": {},
   "source": [
    "# Practice"
   ]
  },
  {
   "cell_type": "markdown",
   "id": "9561b9e2-e31c-4c5e-afc7-f3f62e1f6710",
   "metadata": {},
   "source": [
    "## Sum of List Elements"
   ]
  },
  {
   "cell_type": "code",
   "execution_count": 10,
   "id": "cb902257-b605-419c-b1ac-c085133988e9",
   "metadata": {},
   "outputs": [
    {
     "name": "stdout",
     "output_type": "stream",
     "text": [
      "The sum is: 150\n"
     ]
    }
   ],
   "source": [
    "nums = [10,20,30,40,50]\n",
    "\n",
    "sum = 0\n",
    "\n",
    "for x in nums:\n",
    "    sum += x\n",
    "\n",
    "print(\"The sum is:\", sum)"
   ]
  },
  {
   "cell_type": "markdown",
   "id": "57b801f6-586d-4a4a-be00-75e0acb8ac56",
   "metadata": {},
   "source": [
    "## Sum of Adjacent Values"
   ]
  },
  {
   "cell_type": "code",
   "execution_count": 12,
   "id": "bed7a103-186d-46fe-a0e9-5b329c691628",
   "metadata": {},
   "outputs": [
    {
     "name": "stdout",
     "output_type": "stream",
     "text": [
      "[30, 50, 70, 90, 50]\n"
     ]
    }
   ],
   "source": [
    "nums = [10,20,30,40,50]\n",
    "\n",
    "i = 0\n",
    "while i < len(nums):\n",
    "    sum = nums[i]\n",
    "    if i + 1 < len(nums):\n",
    "        sum += nums[i+1]\n",
    "\n",
    "    nums[i] = sum\n",
    "    i+=1\n",
    "\n",
    "print(nums)"
   ]
  },
  {
   "cell_type": "markdown",
   "id": "f5006d84-1da4-4b49-ad4f-c058d05295cc",
   "metadata": {},
   "source": [
    "## Construct a decimal number\n",
    "Write a program that converts a list of single-digit values into a single decimal number. The length of the list is restricted to five values."
   ]
  },
  {
   "cell_type": "code",
   "execution_count": 13,
   "id": "2a1b5b42-b47f-4969-9ad7-4ff43e9e08e5",
   "metadata": {},
   "outputs": [
    {
     "name": "stdout",
     "output_type": "stream",
     "text": [
      "Result is:  12345\n"
     ]
    }
   ],
   "source": [
    "nums = [1, 2, 3, 4, 5]\n",
    "\n",
    "res = 0\n",
    "\n",
    "for x in nums:\n",
    "    res = res * 10 + x\n",
    "\n",
    "print(\"Result is: \",res)"
   ]
  },
  {
   "cell_type": "markdown",
   "id": "c950742a-9bbd-4512-bd60-87f8ee333d05",
   "metadata": {},
   "source": [
    "## Reverse a List"
   ]
  },
  {
   "cell_type": "code",
   "execution_count": 15,
   "id": "28e1ae32-9a49-4533-a857-e988397209b2",
   "metadata": {},
   "outputs": [
    {
     "name": "stdout",
     "output_type": "stream",
     "text": [
      "Original List: ['a', 'e', 'i', 'o', 'u', 'w', 'h', 'y']\n",
      "Reversed List: ['y', 'h', 'w', 'u', 'o', 'i', 'e', 'a']\n"
     ]
    }
   ],
   "source": [
    "v = ['a','e','i','o','u','w','h','y']\n",
    "\n",
    "print(\"Original List:\",v)\n",
    "\n",
    "left = 0\n",
    "right = len(v) - 1\n",
    "\n",
    "while left < right:\n",
    "    tmp = v[left]\n",
    "    v[left] = v[right]\n",
    "    v[right] = tmp\n",
    "    left += 1\n",
    "    right -= 1\n",
    "\n",
    "print(\"Reversed List:\",v)"
   ]
  },
  {
   "cell_type": "code",
   "execution_count": null,
   "id": "e89b32db-d415-4735-9673-3d981b1e771f",
   "metadata": {},
   "outputs": [],
   "source": []
  }
 ],
 "metadata": {
  "kernelspec": {
   "display_name": "Python 3 (ipykernel)",
   "language": "python",
   "name": "python3"
  },
  "language_info": {
   "codemirror_mode": {
    "name": "ipython",
    "version": 3
   },
   "file_extension": ".py",
   "mimetype": "text/x-python",
   "name": "python",
   "nbconvert_exporter": "python",
   "pygments_lexer": "ipython3",
   "version": "3.10.12"
  }
 },
 "nbformat": 4,
 "nbformat_minor": 5
}
