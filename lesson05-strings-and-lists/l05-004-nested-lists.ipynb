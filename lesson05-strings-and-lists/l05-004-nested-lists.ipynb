{
 "cells": [
  {
   "cell_type": "markdown",
   "id": "bd82e7b7-62e4-4c9f-9064-38c1de34a43e",
   "metadata": {},
   "source": [
    "# Nested Lists"
   ]
  },
  {
   "cell_type": "code",
   "execution_count": 1,
   "id": "cdc54608-d9ad-49ba-a304-cc72d59e9ff2",
   "metadata": {},
   "outputs": [
    {
     "name": "stdout",
     "output_type": "stream",
     "text": [
      "['aa', ['b', 'c'], 'dd']\n"
     ]
    }
   ],
   "source": [
    "alist = ['aa', ['b', 'c'], 'dd'] # Creating a nested list\n",
    "print(alist)"
   ]
  },
  {
   "cell_type": "code",
   "execution_count": 2,
   "id": "b828ee6e-7bba-456c-8dde-3e95abbb6bb8",
   "metadata": {},
   "outputs": [
    {
     "name": "stdout",
     "output_type": "stream",
     "text": [
      "['0', '1', ['2.0', '2.1', ['2.2.0', '2.2.1']], '3', '4']\n"
     ]
    }
   ],
   "source": [
    "blist = ['0', '1', ['2.0', '2.1', ['2.2.0', '2.2.1']], '3', '4'] # creating a nested list\n",
    "print(blist)"
   ]
  },
  {
   "cell_type": "code",
   "execution_count": 3,
   "id": "89a2c1fa-acb4-4548-a6ce-a26a67eea436",
   "metadata": {},
   "outputs": [
    {
     "name": "stdout",
     "output_type": "stream",
     "text": [
      "[[1, 2, 3], [4, 5], [5], 77, 8.8, 'ff']\n"
     ]
    }
   ],
   "source": [
    "clist = [[1,2,3],[4,5],[5],77,8.8,'ff'] # Creating a nested list\n",
    "print(clist)"
   ]
  },
  {
   "cell_type": "code",
   "execution_count": 4,
   "id": "f2acab83-1730-44bd-a8fd-96d5b368c670",
   "metadata": {},
   "outputs": [
    {
     "name": "stdout",
     "output_type": "stream",
     "text": [
      "[['aa', ['b', 'c'], 'dd'], ['0', '1', ['2.0', '2.1', ['2.2.0', '2.2.1']], '3', '4'], [[1, 2, 3], [4, 5], [5], 77, 8.8, 'ff']]\n"
     ]
    }
   ],
   "source": [
    "alist = ['aa', ['b', 'c'], 'dd'] # Creating list 1\n",
    "\n",
    "blist = ['0', '1', ['2.0', '2.1', ['2.2.0', '2.2.1']], '3', '4'] # Creating list 2\n",
    "\n",
    "clist = [[1,2,3],[4,5],[5],77,8.8,'ff'] # Creating list 3\n",
    "\n",
    "dlist = [alist, blist, clist] # Creating list of lists\n",
    "print(dlist)"
   ]
  },
  {
   "cell_type": "markdown",
   "id": "88a70c26-f713-4f3f-830f-42e5fc2014bc",
   "metadata": {},
   "source": [
    "## matrix"
   ]
  },
  {
   "cell_type": "code",
   "execution_count": 5,
   "id": "7a7606cd-5c9d-4055-9280-56957620e221",
   "metadata": {},
   "outputs": [
    {
     "name": "stdout",
     "output_type": "stream",
     "text": [
      "Matrix: [[1, 2, 3, 4], [5, 6, 7, 8], [9, 10, 11, 12]]\n"
     ]
    }
   ],
   "source": [
    "matrixA = [[1,2,3,4],[5,6,7,8],[9,10,11,12]] # Creating a matrix\n",
    "print(\"Matrix:\",matrixA)"
   ]
  },
  {
   "cell_type": "code",
   "execution_count": 6,
   "id": "5f5f9831-1b5a-4286-86a7-0d56cb3ac8e9",
   "metadata": {},
   "outputs": [
    {
     "name": "stdout",
     "output_type": "stream",
     "text": [
      "Matrix: [[10, 12, 13, 14], [15, 16, 17, 18], [19, 20, 21, 22]]\n"
     ]
    }
   ],
   "source": [
    "matrixB = [ [10,12,13,14],\n",
    "            [15,16,17,18],\n",
    "            [19,20,21,22] ]\n",
    " \n",
    "print(\"Matrix:\",matrixB)"
   ]
  },
  {
   "cell_type": "code",
   "execution_count": 7,
   "id": "d20e60b9-8dd5-4a45-bdb0-275edb51d4e0",
   "metadata": {},
   "outputs": [
    {
     "name": "stdout",
     "output_type": "stream",
     "text": [
      "Matrix: [[1, 2, 3, 4], [5, 6, 7, 8], [9, 10, 11, 12]]\n",
      "Matrix: [[10, 12, 13, 14], [15, 16, 17, 18], [19, 20, 21, 22]]\n",
      "Matrix: [[1, 2, 3, 4], [5, 6, 7, 8], [9, 10, 11, 12], [10, 12, 13, 14], [15, 16, 17, 18], [19, 20, 21, 22]]\n"
     ]
    }
   ],
   "source": [
    "matrixA = [[1,2,3,4],[5,6,7,8],[9,10,11,12]]\n",
    "matrixB = [ [10,12,13,14],\n",
    "            [15,16,17,18],\n",
    "            [19,20,21,22] ]\n",
    "matrixC = matrixA + matrixB # Adding matrix A and matrix B\n",
    " \n",
    "print(\"Matrix:\",matrixA)\n",
    "print(\"Matrix:\",matrixB)\n",
    "print(\"Matrix:\",matrixC)"
   ]
  },
  {
   "cell_type": "markdown",
   "id": "4e7052aa-aeea-430a-8e2c-1cd884d0a9b8",
   "metadata": {},
   "source": [
    "# Individual Values in a Nested List"
   ]
  },
  {
   "cell_type": "code",
   "execution_count": 9,
   "id": "31945785-1207-4b90-ac39-2a934ee68dd9",
   "metadata": {},
   "outputs": [
    {
     "name": "stdout",
     "output_type": "stream",
     "text": [
      "20\n"
     ]
    }
   ],
   "source": [
    "list1 = [0, 1, [20, 21, [220, 221]], 3, 4]\n",
    "\n",
    "print(list1[2][0])"
   ]
  },
  {
   "cell_type": "markdown",
   "id": "73ea4e10-37df-49c9-9f96-ddd8d874a211",
   "metadata": {},
   "source": [
    "---"
   ]
  },
  {
   "cell_type": "markdown",
   "id": "3fec4deb-6634-4e11-9682-f3d65fd9fe14",
   "metadata": {},
   "source": [
    "# Practice"
   ]
  },
  {
   "cell_type": "markdown",
   "id": "1036b7f8-bed0-4d7a-b021-ee7bf1e3fda2",
   "metadata": {},
   "source": [
    "## Sum of Two Matrices"
   ]
  },
  {
   "cell_type": "code",
   "execution_count": 22,
   "id": "7ddf183e-eba8-4558-a054-d84e0e613cb4",
   "metadata": {},
   "outputs": [
    {
     "name": "stdout",
     "output_type": "stream",
     "text": [
      "[[2, 4, 6, 8], [10, 12, 14, 16], [18, 20, 22, 24]]\n"
     ]
    }
   ],
   "source": [
    "a = [[1,2,3,4],[5,6,7,8],[9,10,11,12]]\n",
    "b = [ [1,2,3,4],\n",
    "      [5,6,7,8],\n",
    "      [9,10,11,12] ]\n",
    "\n",
    "c = [\n",
    "        [0] * 4 for _ in range(3)\n",
    "    ]\n",
    "\n",
    "for i in range(len(a)):\n",
    "    for j in range(len(a[i])):\n",
    "        c[i][j] = a[i][j] + b[i][j]\n",
    "\n",
    "print(c)"
   ]
  },
  {
   "cell_type": "markdown",
   "id": "39b716e5-9418-472e-b319-3e6fd66fc747",
   "metadata": {},
   "source": [
    "## Calculate the sum of each row in a matrix"
   ]
  },
  {
   "cell_type": "code",
   "execution_count": 25,
   "id": "54da7ade-8076-4759-90a1-e611d62d7e8c",
   "metadata": {},
   "outputs": [
    {
     "name": "stdout",
     "output_type": "stream",
     "text": [
      "Sum in Row 1 : 60\n",
      "Sum in Row 1 : 150\n"
     ]
    }
   ],
   "source": [
    "matrix = [\n",
    "    [10,20,30],\n",
    "     [40,50,60]\n",
    "    ]\n",
    "\n",
    "i = 1\n",
    "for row in matrix:\n",
    "    sum = 0\n",
    "\n",
    "    for x in row:\n",
    "        sum += x\n",
    "\n",
    "    print(\"Sum in Row\", i, \":\", sum)"
   ]
  },
  {
   "cell_type": "code",
   "execution_count": null,
   "id": "220560a2-401a-4a62-9a8d-494b55809aab",
   "metadata": {},
   "outputs": [],
   "source": []
  }
 ],
 "metadata": {
  "kernelspec": {
   "display_name": "Python 3 (ipykernel)",
   "language": "python",
   "name": "python3"
  },
  "language_info": {
   "codemirror_mode": {
    "name": "ipython",
    "version": 3
   },
   "file_extension": ".py",
   "mimetype": "text/x-python",
   "name": "python",
   "nbconvert_exporter": "python",
   "pygments_lexer": "ipython3",
   "version": "3.10.12"
  }
 },
 "nbformat": 4,
 "nbformat_minor": 5
}
