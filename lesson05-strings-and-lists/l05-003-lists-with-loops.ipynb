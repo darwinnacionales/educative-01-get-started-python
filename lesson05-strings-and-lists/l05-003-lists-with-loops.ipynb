{
 "cells": [
  {
   "cell_type": "markdown",
   "id": "bd82e7b7-62e4-4c9f-9064-38c1de34a43e",
   "metadata": {},
   "source": [
    "# The `for` Loops with List"
   ]
  },
  {
   "cell_type": "code",
   "execution_count": 1,
   "id": "84f8ec0b-27fb-48e2-82d5-f3afec57c6ae",
   "metadata": {},
   "outputs": [
    {
     "name": "stdout",
     "output_type": "stream",
     "text": [
      "Using loop variable as a list index\n",
      "-5\n",
      "Python\n",
      "3.8\n",
      "\n",
      "Directly accessing the elements\n",
      "-5\n",
      "Python\n",
      "3.8\n",
      "\n",
      "List index using \"len()\" in range()\n",
      "a\n",
      "1\n",
      "2.5\n",
      "i\n",
      "50\n",
      "6\n",
      "m\n",
      "4.4\n",
      "6.7\n",
      "s\n",
      "@educative\n"
     ]
    }
   ],
   "source": [
    "vals = [-5, 'Python', 3.8]\n",
    " \n",
    "print(\"Using loop variable as a list index\")\n",
    "for i in [0,1,2]:\n",
    "   print(vals[i])\n",
    " \n",
    "print(\"\\nDirectly accessing the elements\")\n",
    "for v in vals:\n",
    "   print (v)\n",
    " \n",
    "mix = ['a',1,2.5,'i',50,6,'m',4.4,6.7,'s','@educative']\n",
    "print('\\nList index using \"len()\" in range()')\n",
    "for v in range(len(mix)):\n",
    "   print (mix[v])"
   ]
  },
  {
   "cell_type": "markdown",
   "id": "cffe2cfd-ef62-4733-8cc5-6b2a4c79b5cc",
   "metadata": {},
   "source": [
    "# The `while` loop with lists"
   ]
  },
  {
   "cell_type": "code",
   "execution_count": 7,
   "id": "9f61c7a8-094d-4ced-84a4-f45df900e2f8",
   "metadata": {},
   "outputs": [
    {
     "name": "stdin",
     "output_type": "stream",
     "text": [
      "Enter the number of terms (maximum 20) for the Fibonacci sequence: 20\n"
     ]
    },
    {
     "name": "stdout",
     "output_type": "stream",
     "text": [
      "[0, 1, 1, 2, 3, 5, 8, 13, 21, 34, 55, 89, 144, 233, 377, 610, 987, 1597, 2584, 4181, 6765]\n"
     ]
    }
   ],
   "source": [
    "n = int(input(\"Enter the number of terms (maximum 20) for the Fibonacci sequence:\"))\n",
    "\n",
    "if n == 0:\n",
    "    print([0])\n",
    "elif n == 1:\n",
    "    print([0,1])\n",
    "elif n <= 20:\n",
    "    res = [0] * (n + 1)\n",
    "    res[1] = 1\n",
    "\n",
    "    i = 2\n",
    "    while i <= n:\n",
    "        res[i] = res[i - 1] + res[i - 2]\n",
    "        i+=1\n",
    "\n",
    "    print(res)\n",
    "else:\n",
    "    print(\"Enter a number between 0 to 20\")"
   ]
  },
  {
   "cell_type": "markdown",
   "id": "639d6ac0-f590-4173-a03a-6750ea65b344",
   "metadata": {},
   "source": [
    "---"
   ]
  },
  {
   "cell_type": "markdown",
   "id": "f0901860-eb31-452b-bd6e-933e385d3e5b",
   "metadata": {},
   "source": [
    "# Practice"
   ]
  },
  {
   "cell_type": "markdown",
   "id": "9561b9e2-e31c-4c5e-afc7-f3f62e1f6710",
   "metadata": {},
   "source": [
    "## Palindrome Test"
   ]
  },
  {
   "cell_type": "code",
   "execution_count": 10,
   "id": "cb902257-b605-419c-b1ac-c085133988e9",
   "metadata": {},
   "outputs": [
    {
     "name": "stdout",
     "output_type": "stream",
     "text": [
      "Is (u) Palindrome: False\n",
      "Is (v) Palindrome: True\n"
     ]
    }
   ],
   "source": [
    "u = [1,2,3,4,5,6,7,8,9,10,11,12,21,11,10,9,8,7,6,5,4,3,2,1]\n",
    "v = [1,2,3,4,5,6,7,8,9,10,11,12,11,10,9,8,7,6,5,4,3,2,1]\n",
    "\n",
    "left = 0\n",
    "right = len(u) - 1\n",
    "\n",
    "is_palindrome = True\n",
    "\n",
    "while left < right:\n",
    "    if u[left] != u[right]:\n",
    "        is_palindrome = False\n",
    "\n",
    "    left += 1\n",
    "    right -= 1\n",
    "\n",
    "print(\"Is (u) Palindrome:\", is_palindrome)\n",
    "\n",
    "left = 0\n",
    "right = len(v) - 1\n",
    "\n",
    "is_palindrome = True\n",
    "\n",
    "while left < right:\n",
    "    if v[left] != v[right]:\n",
    "        is_palindrome = False\n",
    "\n",
    "    left += 1\n",
    "    right -= 1\n",
    "\n",
    "print(\"Is (v) Palindrome:\", is_palindrome)"
   ]
  },
  {
   "cell_type": "markdown",
   "id": "57b801f6-586d-4a4a-be00-75e0acb8ac56",
   "metadata": {},
   "source": [
    "## Sum of Adjacent Values"
   ]
  },
  {
   "cell_type": "code",
   "execution_count": 12,
   "id": "bed7a103-186d-46fe-a0e9-5b329c691628",
   "metadata": {},
   "outputs": [
    {
     "name": "stdout",
     "output_type": "stream",
     "text": [
      "[30, 50, 70, 90, 50]\n"
     ]
    }
   ],
   "source": [
    "nums = [10,20,30,40,50]\n",
    "\n",
    "i = 0\n",
    "while i < len(nums):\n",
    "    sum = nums[i]\n",
    "    if i + 1 < len(nums):\n",
    "        sum += nums[i+1]\n",
    "\n",
    "    nums[i] = sum\n",
    "    i+=1\n",
    "\n",
    "print(nums)"
   ]
  },
  {
   "cell_type": "markdown",
   "id": "f5006d84-1da4-4b49-ad4f-c058d05295cc",
   "metadata": {},
   "source": [
    "## Construct a decimal number\n",
    "Write a program that converts a list of single-digit values into a single decimal number. The length of the list is restricted to five values."
   ]
  },
  {
   "cell_type": "code",
   "execution_count": 13,
   "id": "2a1b5b42-b47f-4969-9ad7-4ff43e9e08e5",
   "metadata": {},
   "outputs": [
    {
     "name": "stdout",
     "output_type": "stream",
     "text": [
      "Result is:  12345\n"
     ]
    }
   ],
   "source": [
    "nums = [1, 2, 3, 4, 5]\n",
    "\n",
    "res = 0\n",
    "\n",
    "for x in nums:\n",
    "    res = res * 10 + x\n",
    "\n",
    "print(\"Result is: \",res)"
   ]
  },
  {
   "cell_type": "markdown",
   "id": "c950742a-9bbd-4512-bd60-87f8ee333d05",
   "metadata": {},
   "source": [
    "## Reverse a List"
   ]
  },
  {
   "cell_type": "code",
   "execution_count": 15,
   "id": "28e1ae32-9a49-4533-a857-e988397209b2",
   "metadata": {},
   "outputs": [
    {
     "name": "stdout",
     "output_type": "stream",
     "text": [
      "Original List: ['a', 'e', 'i', 'o', 'u', 'w', 'h', 'y']\n",
      "Reversed List: ['y', 'h', 'w', 'u', 'o', 'i', 'e', 'a']\n"
     ]
    }
   ],
   "source": [
    "v = ['a','e','i','o','u','w','h','y']\n",
    "\n",
    "print(\"Original List:\",v)\n",
    "\n",
    "left = 0\n",
    "right = len(v) - 1\n",
    "\n",
    "while left < right:\n",
    "    tmp = v[left]\n",
    "    v[left] = v[right]\n",
    "    v[right] = tmp\n",
    "    left += 1\n",
    "    right -= 1\n",
    "\n",
    "print(\"Reversed List:\",v)"
   ]
  },
  {
   "cell_type": "code",
   "execution_count": null,
   "id": "e89b32db-d415-4735-9673-3d981b1e771f",
   "metadata": {},
   "outputs": [],
   "source": []
  }
 ],
 "metadata": {
  "kernelspec": {
   "display_name": "Python 3 (ipykernel)",
   "language": "python",
   "name": "python3"
  },
  "language_info": {
   "codemirror_mode": {
    "name": "ipython",
    "version": 3
   },
   "file_extension": ".py",
   "mimetype": "text/x-python",
   "name": "python",
   "nbconvert_exporter": "python",
   "pygments_lexer": "ipython3",
   "version": "3.10.12"
  }
 },
 "nbformat": 4,
 "nbformat_minor": 5
}
