{
 "cells": [
  {
   "cell_type": "markdown",
   "id": "bd82e7b7-62e4-4c9f-9064-38c1de34a43e",
   "metadata": {},
   "source": [
    "# Initializing the String"
   ]
  },
  {
   "cell_type": "code",
   "execution_count": 1,
   "id": "2ed3b0be-1fd2-4b8d-b6cf-3ba406314264",
   "metadata": {},
   "outputs": [
    {
     "name": "stdout",
     "output_type": "stream",
     "text": [
      "String1 in single quotes\n",
      "String2 in double quotes\n",
      "String3 in three single quotes\n",
      "String 4 Three quotes\n",
      "        allow\n",
      "        multiple lines\n"
     ]
    }
   ],
   "source": [
    "String1 = 'String1 in single quotes'\n",
    "print(String1)\n",
    "\n",
    "String2 = \"String2 in double quotes\"\n",
    "print(String2)\n",
    "\n",
    "String3 = '''String3 in three single quotes'''\n",
    "print(String3)\n",
    "\n",
    "String4 = '''String 4 Three quotes\n",
    "        allow\n",
    "        multiple lines'''\n",
    "print(String4)"
   ]
  },
  {
   "cell_type": "markdown",
   "id": "9e2abcf5-fad1-4848-9079-750cfeb3f0f0",
   "metadata": {},
   "source": [
    "# Accessing the Characters in a String"
   ]
  },
  {
   "cell_type": "code",
   "execution_count": 2,
   "id": "6d9ab68a-cd7a-4fef-a307-c8302897bf14",
   "metadata": {},
   "outputs": [
    {
     "name": "stdout",
     "output_type": "stream",
     "text": [
      "Educative\n",
      "E = E\n",
      "d = d\n",
      "u = u\n",
      "c = c\n",
      "a = a\n",
      "t = t\n",
      "i = i\n",
      "v = v\n",
      "e = e\n"
     ]
    }
   ],
   "source": [
    "String1 = \"Educative\"\n",
    "print(String1)\n",
    " \n",
    "print(String1[0],'=',String1[-9]) # Displaying first element of string\n",
    "print(String1[1],'=',String1[-8]) # Displaying second element of string\n",
    "print(String1[2],'=',String1[-7]) # Displaying fourth element of string\n",
    "print(String1[3],'=',String1[-6]) # Displaying fifth element of string\n",
    "print(String1[4],'=',String1[-5]) # Displaying sixth element of string\n",
    "print(String1[5],'=',String1[-4]) # Displaying seventh element of string\n",
    "print(String1[6],'=',String1[-3]) # Displaying eighth element of string\n",
    "print(String1[7],'=',String1[-2]) # Displaying ninth element of string\n",
    "print(String1[8],'=',String1[-1]) # Displaying tenth element of string"
   ]
  },
  {
   "cell_type": "markdown",
   "id": "edeb7bb3-18e1-43d4-a939-c8ac044befa1",
   "metadata": {},
   "source": [
    "# Slice"
   ]
  },
  {
   "cell_type": "code",
   "execution_count": 3,
   "id": "a5db6f24-3a14-4cb8-9eb6-359f65b6fe98",
   "metadata": {},
   "outputs": [
    {
     "name": "stdout",
     "output_type": "stream",
     "text": [
      "Characters between 3rd and 5th index: \n",
      "ca\n",
      "Characters between 3rd and 3rd-last index: \n",
      "cat\n",
      "Educative Learner\n",
      "Educative-Learner\n"
     ]
    }
   ],
   "source": [
    "String1 = \"Educative\"\n",
    "print(\"Characters between 3rd and 5th index: \")\n",
    "print(String1[3:5])\n",
    "print(\"Characters between 3rd and 3rd-last index: \")\n",
    "print(String1[3:-3])\n",
    " \n",
    "String2 = String1 + ' Learner'\n",
    "print(String2)\n",
    " \n",
    "String3 = String2[:9] + '-' + String2[10:]\n",
    "print(String3)"
   ]
  },
  {
   "cell_type": "markdown",
   "id": "138e27b4-9c55-4e96-a7a5-ee73886440bb",
   "metadata": {},
   "source": [
    "---"
   ]
  },
  {
   "cell_type": "markdown",
   "id": "7bc9ea42-ab23-4d83-9d90-5dd554651c45",
   "metadata": {},
   "source": [
    "# Practice"
   ]
  },
  {
   "cell_type": "markdown",
   "id": "c27d46b8-1f3f-447a-9c7f-33728ccbc403",
   "metadata": {},
   "source": [
    "## Print the Characters Backwards"
   ]
  },
  {
   "cell_type": "code",
   "execution_count": 7,
   "id": "a7d5a43e-4912-4abf-b37b-e514277bea31",
   "metadata": {},
   "outputs": [
    {
     "name": "stdout",
     "output_type": "stream",
     "text": [
      "e v i t a c u d E "
     ]
    }
   ],
   "source": [
    "str = \"Educative\"\n",
    "\n",
    "i = len(str) - 1\n",
    "while i >= 0:\n",
    "    print(str[i], end=\" \")\n",
    "    i -= 1"
   ]
  },
  {
   "cell_type": "markdown",
   "id": "d61441c9-b96b-4992-bf91-4ae0e3b6b9d1",
   "metadata": {},
   "source": [
    "## Left shift the characters in a string"
   ]
  },
  {
   "cell_type": "code",
   "execution_count": 8,
   "id": "4a4079d0-a060-4fa9-926f-548552f34809",
   "metadata": {},
   "outputs": [
    {
     "name": "stdout",
     "output_type": "stream",
     "text": [
      "ducative\n"
     ]
    }
   ],
   "source": [
    "str = \"Educative\"\n",
    "\n",
    "print(str[1:])"
   ]
  },
  {
   "cell_type": "markdown",
   "id": "a32d2135-4bd2-450f-8414-ee77e0a35dbc",
   "metadata": {},
   "source": [
    "## Palindrome Test"
   ]
  },
  {
   "cell_type": "code",
   "execution_count": 13,
   "id": "5f4936f7-afb8-4888-b9aa-a5c6af03bab9",
   "metadata": {},
   "outputs": [
    {
     "name": "stdout",
     "output_type": "stream",
     "text": [
      "leve is not a palindrome\n"
     ]
    }
   ],
   "source": [
    "str = \"leve\"\n",
    "left = 0\n",
    "right = len(str) - 1\n",
    "\n",
    "is_palindrome = True\n",
    "while left < right:\n",
    "    if str[left] != str[right]:\n",
    "        is_palindrome = False\n",
    "        break\n",
    "    left+=1\n",
    "    right-=1\n",
    "\n",
    "if is_palindrome:\n",
    "    print(str, \"is a palindrome\")\n",
    "else:\n",
    "    print(str, \"is not a palindrome\")\n",
    "\n",
    "        "
   ]
  }
 ],
 "metadata": {
  "kernelspec": {
   "display_name": "Python 3 (ipykernel)",
   "language": "python",
   "name": "python3"
  },
  "language_info": {
   "codemirror_mode": {
    "name": "ipython",
    "version": 3
   },
   "file_extension": ".py",
   "mimetype": "text/x-python",
   "name": "python",
   "nbconvert_exporter": "python",
   "pygments_lexer": "ipython3",
   "version": "3.10.12"
  }
 },
 "nbformat": 4,
 "nbformat_minor": 5
}
