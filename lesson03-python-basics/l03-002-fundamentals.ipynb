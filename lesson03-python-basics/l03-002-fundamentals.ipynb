{
 "cells": [
  {
   "cell_type": "markdown",
   "id": "2c1e23c4-6657-483f-85d1-9f12e6a106ac",
   "metadata": {},
   "source": [
    "# Data Types"
   ]
  },
  {
   "cell_type": "code",
   "execution_count": 2,
   "id": "11999e47-f9a1-4410-85cb-00318815a961",
   "metadata": {},
   "outputs": [
    {
     "name": "stdout",
     "output_type": "stream",
     "text": [
      "The total score of Germaine is 37.65 putting her in 5 place.\n"
     ]
    }
   ],
   "source": [
    "position = 5 # Defines a variable of type int\n",
    "totalScore = 37.65 # a variable of type float\n",
    "name = \"Germaine\" # a variable of type string\n",
    "\n",
    "print(\"The total score of\", name, \"is\", totalScore, \"putting her in\", position, \"place.\")"
   ]
  },
  {
   "cell_type": "markdown",
   "id": "c586f59c-3d45-4d7b-af4e-985b3da3edfc",
   "metadata": {},
   "source": [
    "# Operations"
   ]
  },
  {
   "cell_type": "code",
   "execution_count": 3,
   "id": "a9bd62a0-fc1f-4913-8e35-7edcec4a6414",
   "metadata": {},
   "outputs": [
    {
     "name": "stdout",
     "output_type": "stream",
     "text": [
      "The sum is: 27\n",
      "The sum is: 8.7\n",
      "The result of concatenating strings is: 58\n"
     ]
    }
   ],
   "source": [
    "x = 10\n",
    "y = 17\n",
    "\n",
    "sum1 = x + y\n",
    "print(\"The sum is:\", sum1)\n",
    "\n",
    "m = 5.2\n",
    "n = 3.5\n",
    "\n",
    "sum2 = m + n\n",
    "print(\"The sum is:\", sum2)\n",
    "\n",
    "s = \"5\"\n",
    "t = \"8\"\n",
    "\n",
    "result = s + t\n",
    "print(\"The result of concatenating strings is:\", result)"
   ]
  },
  {
   "cell_type": "markdown",
   "id": "431ad3fe-1694-4ea8-af73-fd2ed61e3039",
   "metadata": {},
   "source": [
    "# Operations on Input"
   ]
  },
  {
   "cell_type": "code",
   "execution_count": 4,
   "id": "fd4953eb-699a-474c-86d3-98dd30930c24",
   "metadata": {},
   "outputs": [
    {
     "name": "stdin",
     "output_type": "stream",
     "text": [
      "Enter an integer: 4\n",
      "Enter another integer: 2\n"
     ]
    },
    {
     "name": "stdout",
     "output_type": "stream",
     "text": [
      "The sum is: 42\n"
     ]
    }
   ],
   "source": [
    "a = input(\"Enter an integer:\")\n",
    "b = input(\"Enter another integer:\")\n",
    "\n",
    "print(\"The sum is:\", a + b)"
   ]
  },
  {
   "cell_type": "code",
   "execution_count": 5,
   "id": "eddcd452-f54c-4d14-b6c9-571c89add75f",
   "metadata": {},
   "outputs": [
    {
     "name": "stdin",
     "output_type": "stream",
     "text": [
      "Enter an integer: 4\n",
      "Enter another integer: 2\n"
     ]
    },
    {
     "name": "stdout",
     "output_type": "stream",
     "text": [
      "The sum is: 6\n"
     ]
    }
   ],
   "source": [
    "a = int(input(\"Enter an integer:\"))\n",
    "b = int(input(\"Enter another integer:\"))\n",
    "\n",
    "print(\"The sum is:\", a + b)"
   ]
  },
  {
   "cell_type": "markdown",
   "id": "49a897d8-5a03-41ed-8782-8042bf9c9e3e",
   "metadata": {},
   "source": [
    "# Operators in Python"
   ]
  },
  {
   "cell_type": "code",
   "execution_count": null,
   "id": "c5cbbd36-6141-4903-8523-95306d0c3c46",
   "metadata": {},
   "outputs": [],
   "source": [
    "a = b = 5 # Cascaded assignment\n",
    "c, d = 10, 20 # Tuple assignment\n",
    "\n",
    "print(\"a =\", a)\n",
    "print(\"a =\", a)"
   ]
  }
 ],
 "metadata": {
  "kernelspec": {
   "display_name": "Python 3 (ipykernel)",
   "language": "python",
   "name": "python3"
  },
  "language_info": {
   "codemirror_mode": {
    "name": "ipython",
    "version": 3
   },
   "file_extension": ".py",
   "mimetype": "text/x-python",
   "name": "python",
   "nbconvert_exporter": "python",
   "pygments_lexer": "ipython3",
   "version": "3.10.12"
  }
 },
 "nbformat": 4,
 "nbformat_minor": 5
}
