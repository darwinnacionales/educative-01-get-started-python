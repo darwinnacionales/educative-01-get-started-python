{
 "cells": [
  {
   "cell_type": "markdown",
   "id": "1f4ae66d-94fb-4f90-a325-3f36973940e2",
   "metadata": {},
   "source": [
    "# Personalize messages and add variables"
   ]
  },
  {
   "cell_type": "markdown",
   "id": "2e34107a-bc4d-44ad-b280-43b6aca67caf",
   "metadata": {},
   "source": [
    "Note: A variable name can only contain letters (A—Z and a—z) and the underscore symbol (_). It may also contain digits (0–9), but the variable name can’t start with those. For example, Key_2 is a valid variable name but 2_key is not. Variable names are case-sensitive, meaning that name, Name, and NAME are three different variables."
   ]
  },
  {
   "cell_type": "code",
   "execution_count": 1,
   "id": "d21ebfab-a062-4d2a-a10c-a0fb7c0f92fc",
   "metadata": {},
   "outputs": [
    {
     "name": "stdin",
     "output_type": "stream",
     "text": [
      "Enter your name:  Darwin\n"
     ]
    },
    {
     "name": "stdout",
     "output_type": "stream",
     "text": [
      "Hello  Darwin\n",
      "Welcome to Educative\n"
     ]
    }
   ],
   "source": [
    "name = input(\"Enter your name: \")\n",
    "print(\"Hello \", name)\n",
    "print(\"Welcome to Educative\")"
   ]
  },
  {
   "cell_type": "code",
   "execution_count": null,
   "id": "740cc4d8-a641-4202-99bf-7b8d11f08904",
   "metadata": {},
   "outputs": [],
   "source": []
  }
 ],
 "metadata": {
  "kernelspec": {
   "display_name": "Python 3 (ipykernel)",
   "language": "python",
   "name": "python3"
  },
  "language_info": {
   "codemirror_mode": {
    "name": "ipython",
    "version": 3
   },
   "file_extension": ".py",
   "mimetype": "text/x-python",
   "name": "python",
   "nbconvert_exporter": "python",
   "pygments_lexer": "ipython3",
   "version": "3.10.12"
  }
 },
 "nbformat": 4,
 "nbformat_minor": 5
}
