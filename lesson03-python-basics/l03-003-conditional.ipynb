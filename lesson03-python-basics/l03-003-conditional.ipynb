{
 "cells": [
  {
   "cell_type": "markdown",
   "id": "312a02b7-3a5e-4e41-88e2-f6b2400135a1",
   "metadata": {},
   "source": [
    "# Conditional Statement"
   ]
  },
  {
   "cell_type": "markdown",
   "id": "8b31ae6d-d0ed-46ba-95b4-2f17ae2aa7dc",
   "metadata": {},
   "source": [
    "## If-Else Statement"
   ]
  },
  {
   "cell_type": "code",
   "execution_count": 2,
   "id": "02933eec-4e4a-47f3-aa65-f215bd452ba8",
   "metadata": {},
   "outputs": [
    {
     "name": "stdin",
     "output_type": "stream",
     "text": [
      "Enter your age 19\n"
     ]
    },
    {
     "name": "stdout",
     "output_type": "stream",
     "text": [
      "You are eligible for driver's license.\n"
     ]
    }
   ],
   "source": [
    "age = int(input(\"Enter your age\"))\n",
    "\n",
    "if age >= 18:\n",
    "    print(\"You are eligible for driver's license.\")\n",
    "else:\n",
    "    print(\"You are not eligible for driver's license.\")"
   ]
  },
  {
   "cell_type": "markdown",
   "id": "ac7b07bb-5d00-476e-8b6d-7f8ee2fa3e03",
   "metadata": {},
   "source": [
    "## Sum of Digits"
   ]
  },
  {
   "cell_type": "markdown",
   "id": "2fadb581-d6aa-4ec8-90d6-e4cff5be0d05",
   "metadata": {},
   "source": [
    "Write a program that takes an input number and displays the sum of its digits"
   ]
  },
  {
   "cell_type": "code",
   "execution_count": 11,
   "id": "ecc52e90-1639-404a-9f83-e26aa6351883",
   "metadata": {},
   "outputs": [
    {
     "name": "stdin",
     "output_type": "stream",
     "text": [
      "Enter a positive number with atmost 4 digits: 343\n"
     ]
    },
    {
     "name": "stdout",
     "output_type": "stream",
     "text": [
      "Sum of digits is: 10\n"
     ]
    }
   ],
   "source": [
    "sum = 0\n",
    "number = int(input(\"Enter a positive number with atmost 4 digits:\"))\n",
    "\n",
    "if (number >= 0 and number <= 9999):\n",
    "    while (number > 0):\n",
    "        n = number % 10\n",
    "        sum += n\n",
    "        number //= 10\n",
    "    \n",
    "    print(\"Sum of digits is:\",sum)\n",
    "else:\n",
    "    print(\"Invalid input\")"
   ]
  },
  {
   "cell_type": "markdown",
   "id": "6e84f365-59ce-4022-a4d6-1299a96d835d",
   "metadata": {},
   "source": [
    "## Two Digits"
   ]
  },
  {
   "cell_type": "markdown",
   "id": "298b8c5e-a650-4b1d-a644-30afed08f1bd",
   "metadata": {},
   "source": [
    "Write a program that takes a number from the user as input. If it’s between 10 and 99 both inclusive, then it will display two digits. Otherwise, it will display not two digits."
   ]
  },
  {
   "cell_type": "code",
   "execution_count": 12,
   "id": "faf95884-4a9a-41a6-bc20-ee393d2b2cb9",
   "metadata": {},
   "outputs": [
    {
     "name": "stdin",
     "output_type": "stream",
     "text": [
      "Enter a number 100\n"
     ]
    },
    {
     "name": "stdout",
     "output_type": "stream",
     "text": [
      "Not Two Digits\n"
     ]
    }
   ],
   "source": [
    "number = int(input(\"Enter a number\"))\n",
    "\n",
    "if (number >= 10 and number <= 99):\n",
    "    print(\"Two Digits\")\n",
    "else:\n",
    "    print(\"Not Two Digits\")"
   ]
  },
  {
   "cell_type": "markdown",
   "id": "d6327051-074b-4adc-aa52-d99007c05ad3",
   "metadata": {},
   "source": [
    "## Pay Calculator"
   ]
  },
  {
   "cell_type": "markdown",
   "id": "ee25dcf6-b49a-4114-8ae7-f32be2462085",
   "metadata": {},
   "source": [
    "This program should calculate the pay of an employee based on hours worked. The input includes the employee’s total hours worked per week and their hourly pay rate. The employee will be paid a base wage for the first 40 hours worked and time-and-a-half (150% of base pay) for any hours past 40 as overtime pay. Output the regular pay, overtime pay, and total pay for the week on the screen.\n",
    "\n",
    "If the employee worked 40 hours or less, don’t show any output regarding overtime pay."
   ]
  },
  {
   "cell_type": "code",
   "execution_count": 15,
   "id": "b1a68e38-e7a7-499b-8e1e-b1a030fcde91",
   "metadata": {},
   "outputs": [
    {
     "name": "stdin",
     "output_type": "stream",
     "text": [
      "Enter the employee's total work hours: 50\n",
      "Enter the employee's hourly rate: 10\n"
     ]
    },
    {
     "name": "stdout",
     "output_type": "stream",
     "text": [
      "Regular Pay: 400\n",
      "Overtime Pay: 150.0\n"
     ]
    }
   ],
   "source": [
    "total_hours = int(input(\"Enter the employee's total work hours:\"))\n",
    "hourly_rate = int(input(\"Enter the employee's hourly rate:\"))\n",
    "\n",
    "regular_hours = 0\n",
    "overtime_hours = 0\n",
    "\n",
    "if total_hours > 40:\n",
    "    regular_hours = 40\n",
    "    overtime_hours = total_hours - 40\n",
    "else:\n",
    "    regular_hours = total_hours\n",
    "\n",
    "regular_pay = regular_hours * hourly_rate\n",
    "overtime_pay = overtime_hours * hourly_rate * 1.5\n",
    "\n",
    "print(\"Regular Pay:\", regular_pay)\n",
    "\n",
    "if overtime_pay > 0:\n",
    "    print(\"Overtime Pay:\", overtime_pay)"
   ]
  },
  {
   "cell_type": "markdown",
   "id": "cdd4ce51-0cbd-4eed-a8a0-9a9f021315b0",
   "metadata": {},
   "source": [
    "## Find the Quadrant"
   ]
  },
  {
   "cell_type": "markdown",
   "id": "d81e07bc-4f90-4d19-b2c6-7dfe463d63b5",
   "metadata": {},
   "source": [
    "Write a program that takes a point (x,y) from the user and finds the quadrant where the point lies on a Cartesian plane."
   ]
  },
  {
   "cell_type": "code",
   "execution_count": 24,
   "id": "63105f46-16f0-4ffd-9024-1b72b7f5d64b",
   "metadata": {},
   "outputs": [
    {
     "name": "stdin",
     "output_type": "stream",
     "text": [
      "Enter x coordinate: 500\n",
      "Enter y coordinate: -30\n"
     ]
    },
    {
     "name": "stdout",
     "output_type": "stream",
     "text": [
      "( 500 , -30 ) is at:\n",
      "Quadrant II\n"
     ]
    }
   ],
   "source": [
    "x_coordinate = int(input(\"Enter x coordinate:\"))\n",
    "y_coordinate = int(input(\"Enter y coordinate:\"))\n",
    "\n",
    "print(\"(\", x_coordinate, \",\", y_coordinate,\") is at:\")\n",
    "\n",
    "if (x_coordinate > 0 and y_coordinate > 0):\n",
    "    print(\"Quadrant I\")\n",
    "elif (x_coordinate > 0 and y_coordinate < 0):\n",
    "    print(\"Quadrant II\")\n",
    "elif (x_coordinate < 0 and y_coordinate < 0):\n",
    "    print(\"Quadrant III\")\n",
    "else:\n",
    "    print(\"Quadrant IV\")"
   ]
  },
  {
   "cell_type": "code",
   "execution_count": null,
   "id": "90d996ba-a54b-412a-b906-335e8b668295",
   "metadata": {},
   "outputs": [],
   "source": []
  }
 ],
 "metadata": {
  "kernelspec": {
   "display_name": "Python 3 (ipykernel)",
   "language": "python",
   "name": "python3"
  },
  "language_info": {
   "codemirror_mode": {
    "name": "ipython",
    "version": 3
   },
   "file_extension": ".py",
   "mimetype": "text/x-python",
   "name": "python",
   "nbconvert_exporter": "python",
   "pygments_lexer": "ipython3",
   "version": "3.10.12"
  }
 },
 "nbformat": 4,
 "nbformat_minor": 5
}
