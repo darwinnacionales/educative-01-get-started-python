{
 "cells": [
  {
   "cell_type": "markdown",
   "id": "312a02b7-3a5e-4e41-88e2-f6b2400135a1",
   "metadata": {},
   "source": [
    "# Categories of Errors"
   ]
  },
  {
   "cell_type": "markdown",
   "id": "8b31ae6d-d0ed-46ba-95b4-2f17ae2aa7dc",
   "metadata": {},
   "source": [
    "## Syntax errors\n",
    "\n",
    "Syntax errors are the most basic type of errors. They arise when Python is unable to understand a line of code based on the rules of the language."
   ]
  },
  {
   "cell_type": "code",
   "execution_count": 25,
   "id": "02933eec-4e4a-47f3-aa65-f215bd452ba8",
   "metadata": {},
   "outputs": [
    {
     "ename": "SyntaxError",
     "evalue": "invalid syntax (2345944359.py, line 1)",
     "output_type": "error",
     "traceback": [
      "\u001b[0;36m  Cell \u001b[0;32mIn[25], line 1\u001b[0;36m\u001b[0m\n\u001b[0;31m    variable = 5+ # Assigning an invalid value to the variable\u001b[0m\n\u001b[0m                  ^\u001b[0m\n\u001b[0;31mSyntaxError\u001b[0m\u001b[0;31m:\u001b[0m invalid syntax\n"
     ]
    }
   ],
   "source": [
    "variable = 5+ # Assigning an invalid value to the variable\n",
    "print(variable)"
   ]
  },
  {
   "cell_type": "code",
   "execution_count": 26,
   "id": "0ad813d2-9596-4c03-a651-a2eb308840b6",
   "metadata": {},
   "outputs": [
    {
     "ename": "IndentationError",
     "evalue": "expected an indented block after 'else' statement on line 4 (2013977433.py, line 5)",
     "output_type": "error",
     "traceback": [
      "\u001b[0;36m  Cell \u001b[0;32mIn[26], line 5\u001b[0;36m\u001b[0m\n\u001b[0;31m    print(value,\"is negative\")\u001b[0m\n\u001b[0m    ^\u001b[0m\n\u001b[0;31mIndentationError\u001b[0m\u001b[0;31m:\u001b[0m expected an indented block after 'else' statement on line 4\n"
     ]
    }
   ],
   "source": [
    "value = 5 \n",
    "if value > 0:\n",
    "    print(value,\"is positive\")\n",
    "else:\n",
    "print(value,\"is negative\")    "
   ]
  },
  {
   "cell_type": "markdown",
   "id": "ac7b07bb-5d00-476e-8b6d-7f8ee2fa3e03",
   "metadata": {},
   "source": [
    "## Logical errors"
   ]
  },
  {
   "cell_type": "code",
   "execution_count": 28,
   "id": "ecc52e90-1639-404a-9f83-e26aa6351883",
   "metadata": {},
   "outputs": [
    {
     "name": "stdout",
     "output_type": "stream",
     "text": [
      "8 is an odd number\n"
     ]
    }
   ],
   "source": [
    "a = 8\n",
    "if a % 2 == 0: # If the number is divisible by 2\n",
    "    print(a,\"is an odd number\")\n",
    "else:\n",
    "    print(a,\"is an even number\")"
   ]
  },
  {
   "cell_type": "markdown",
   "id": "6e84f365-59ce-4022-a4d6-1299a96d835d",
   "metadata": {},
   "source": [
    "## Exceptions"
   ]
  },
  {
   "cell_type": "code",
   "execution_count": 29,
   "id": "faf95884-4a9a-41a6-bc20-ee393d2b2cb9",
   "metadata": {},
   "outputs": [
    {
     "name": "stdout",
     "output_type": "stream",
     "text": [
      "5\n",
      "0\n"
     ]
    },
    {
     "ename": "ZeroDivisionError",
     "evalue": "division by zero",
     "output_type": "error",
     "traceback": [
      "\u001b[0;31m---------------------------------------------------------------------------\u001b[0m",
      "\u001b[0;31mZeroDivisionError\u001b[0m                         Traceback (most recent call last)",
      "Cell \u001b[0;32mIn[29], line 5\u001b[0m\n\u001b[1;32m      3\u001b[0m \u001b[38;5;28mprint\u001b[39m(a)\n\u001b[1;32m      4\u001b[0m \u001b[38;5;28mprint\u001b[39m(b)\n\u001b[0;32m----> 5\u001b[0m result \u001b[38;5;241m=\u001b[39m \u001b[43ma\u001b[49m\u001b[43m \u001b[49m\u001b[38;5;241;43m/\u001b[39;49m\u001b[43m \u001b[49m\u001b[43mb\u001b[49m \u001b[38;5;66;03m# Dividing a by b\u001b[39;00m\n\u001b[1;32m      6\u001b[0m \u001b[38;5;28mprint\u001b[39m(result)\n",
      "\u001b[0;31mZeroDivisionError\u001b[0m: division by zero"
     ]
    }
   ],
   "source": [
    "a = 5\n",
    "b = 0\n",
    "print(a)\n",
    "print(b)\n",
    "result = a / b # Dividing a by b\n",
    "print(result)"
   ]
  }
 ],
 "metadata": {
  "kernelspec": {
   "display_name": "Python 3 (ipykernel)",
   "language": "python",
   "name": "python3"
  },
  "language_info": {
   "codemirror_mode": {
    "name": "ipython",
    "version": 3
   },
   "file_extension": ".py",
   "mimetype": "text/x-python",
   "name": "python",
   "nbconvert_exporter": "python",
   "pygments_lexer": "ipython3",
   "version": "3.10.12"
  }
 },
 "nbformat": 4,
 "nbformat_minor": 5
}
