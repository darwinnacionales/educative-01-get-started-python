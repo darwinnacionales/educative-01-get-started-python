{
 "cells": [
  {
   "cell_type": "markdown",
   "id": "ea8bb07c-cddf-432d-993e-e5132222984c",
   "metadata": {},
   "source": [
    "# First Python Program"
   ]
  },
  {
   "cell_type": "markdown",
   "id": "643f24b7-2fde-4615-9013-8606647f717c",
   "metadata": {},
   "source": [
    "## Hello World"
   ]
  },
  {
   "cell_type": "code",
   "execution_count": 6,
   "id": "1fcd911e-0f84-438f-8b92-0bcc926ff274",
   "metadata": {},
   "outputs": [
    {
     "name": "stdout",
     "output_type": "stream",
     "text": [
      "Hello World\n"
     ]
    }
   ],
   "source": [
    "print(\"Hello World\")"
   ]
  },
  {
   "cell_type": "markdown",
   "id": "8a611bfd-d5ad-4326-b316-9a4b9d88dfac",
   "metadata": {},
   "source": [
    "## Suppress the New Line in the Output"
   ]
  },
  {
   "cell_type": "markdown",
   "id": "ecaf2ee7-b2d2-4494-bc59-b280187d2bcd",
   "metadata": {},
   "source": [
    "We may suppress it using end=\"\", as shown in the following code:"
   ]
  },
  {
   "cell_type": "code",
   "execution_count": 8,
   "id": "6626b6fe-6d90-43b1-8e49-d3ef29065bf2",
   "metadata": {},
   "outputs": [
    {
     "name": "stdout",
     "output_type": "stream",
     "text": [
      "print without end causes a line break\n",
      "SingleLine\n",
      "It demonstrates the line break\n"
     ]
    }
   ],
   "source": [
    "print(\"print without end causes a line break\")\n",
    "print(\"Single\", end=\"\")\n",
    "print(\"Line\")\n",
    "print(\"It demonstrates the line break\")"
   ]
  },
  {
   "cell_type": "code",
   "execution_count": null,
   "id": "177e7a66-e092-4e9a-a5bb-dc3304109f8b",
   "metadata": {},
   "outputs": [],
   "source": []
  }
 ],
 "metadata": {
  "kernelspec": {
   "display_name": "Python 3 (ipykernel)",
   "language": "python",
   "name": "python3"
  },
  "language_info": {
   "codemirror_mode": {
    "name": "ipython",
    "version": 3
   },
   "file_extension": ".py",
   "mimetype": "text/x-python",
   "name": "python",
   "nbconvert_exporter": "python",
   "pygments_lexer": "ipython3",
   "version": "3.10.12"
  }
 },
 "nbformat": 4,
 "nbformat_minor": 5
}
