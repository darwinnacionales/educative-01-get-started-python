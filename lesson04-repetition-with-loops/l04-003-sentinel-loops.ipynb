{
 "cells": [
  {
   "cell_type": "markdown",
   "id": "7d99e400-c357-4c0b-9fad-6b16b76e9d13",
   "metadata": {},
   "source": [
    "# Sentinel Loops"
   ]
  },
  {
   "cell_type": "markdown",
   "id": "58edcfed-e5cc-4b8a-b54e-d94c0417095f",
   "metadata": {},
   "source": [
    "## The `while` loop"
   ]
  },
  {
   "cell_type": "code",
   "execution_count": 15,
   "id": "41b7d500-b0a0-4639-9174-fa761d90074e",
   "metadata": {},
   "outputs": [
    {
     "name": "stdin",
     "output_type": "stream",
     "text": [
      "Enter the number 98746\n"
     ]
    },
    {
     "name": "stdout",
     "output_type": "stream",
     "text": [
      "6 4 7 8 9 \n"
     ]
    }
   ],
   "source": [
    "a = int(input(\"Enter the number\"))\n",
    "\n",
    "while a > 0:\n",
    "    print(a % 10, end = \" \")\n",
    "    a //= 10\n",
    "print()"
   ]
  },
  {
   "cell_type": "markdown",
   "id": "1bdae782-1b86-42e6-8744-f5b8507d5b8a",
   "metadata": {},
   "source": [
    "## Sum the values using the `while` loop"
   ]
  },
  {
   "cell_type": "code",
   "execution_count": 17,
   "id": "9a02126a-7d08-4bdc-8893-29930b61e074",
   "metadata": {},
   "outputs": [
    {
     "name": "stdin",
     "output_type": "stream",
     "text": [
      "Enter the number 7\n",
      "Enter the number 1\n",
      "Enter the number 4\n",
      "Enter the number 3\n",
      "Enter the number 0\n"
     ]
    },
    {
     "name": "stdout",
     "output_type": "stream",
     "text": [
      "Sum is  15\n"
     ]
    }
   ],
   "source": [
    "b = -1\n",
    "sum = 0\n",
    "while b != 0:\n",
    "    b = int(input(\"Enter the number\"))\n",
    "    sum += b\n",
    "print(\"Sum is \", sum)"
   ]
  },
  {
   "cell_type": "markdown",
   "id": "e339e64a-e542-436d-a155-5775589750c7",
   "metadata": {},
   "source": [
    "## Average Value"
   ]
  },
  {
   "cell_type": "code",
   "execution_count": 19,
   "id": "d1ea79e6-ffc8-4f3c-9d34-421fb9168582",
   "metadata": {},
   "outputs": [
    {
     "name": "stdin",
     "output_type": "stream",
     "text": [
      "Enter a number 10\n",
      "Enter a number 40\n",
      "Enter a number 25\n",
      "Enter a number 80\n",
      "Enter a number 15\n",
      "Enter a number 0\n"
     ]
    },
    {
     "name": "stdout",
     "output_type": "stream",
     "text": [
      "The average is:  28\n"
     ]
    }
   ],
   "source": [
    "sum = 0\n",
    "count = 0\n",
    "a = -1\n",
    "\n",
    "while a != 0:\n",
    "    a = int(input(\"Enter a number\"))\n",
    "    sum += a\n",
    "    count += 1\n",
    "\n",
    "print(\"The average is: \", sum // count)"
   ]
  },
  {
   "cell_type": "code",
   "execution_count": null,
   "id": "2460632b-abee-4c01-ae17-376db193e945",
   "metadata": {},
   "outputs": [],
   "source": []
  }
 ],
 "metadata": {
  "kernelspec": {
   "display_name": "Python 3 (ipykernel)",
   "language": "python",
   "name": "python3"
  },
  "language_info": {
   "codemirror_mode": {
    "name": "ipython",
    "version": 3
   },
   "file_extension": ".py",
   "mimetype": "text/x-python",
   "name": "python",
   "nbconvert_exporter": "python",
   "pygments_lexer": "ipython3",
   "version": "3.10.12"
  }
 },
 "nbformat": 4,
 "nbformat_minor": 5
}
