{
 "cells": [
  {
   "cell_type": "markdown",
   "id": "7d99e400-c357-4c0b-9fad-6b16b76e9d13",
   "metadata": {},
   "source": [
    "# Loops with Ranges"
   ]
  },
  {
   "cell_type": "code",
   "execution_count": 1,
   "id": "41b7d500-b0a0-4639-9174-fa761d90074e",
   "metadata": {},
   "outputs": [
    {
     "name": "stdout",
     "output_type": "stream",
     "text": [
      "1 2 3 4 5 6 7 8 9 10 11 12 13 14 15 16 17 18 19 20 "
     ]
    }
   ],
   "source": [
    "for a in range(1,21): # Using range in for loop\n",
    "  print(a, end=\" \")"
   ]
  },
  {
   "cell_type": "code",
   "execution_count": 2,
   "id": "7a77f047-d83b-410a-af87-480b97d30609",
   "metadata": {},
   "outputs": [
    {
     "name": "stdout",
     "output_type": "stream",
     "text": [
      "0 2 4 6 8 10 12 14 16 18 20 22 24 26 28 30 32 34 36 38 "
     ]
    }
   ],
   "source": [
    "for a in range(0,20): # Using range in for loop\n",
    "  e = a * 2 # Multiple each value of a with 2\n",
    "  print(e, end=\" \")"
   ]
  },
  {
   "cell_type": "code",
   "execution_count": 3,
   "id": "033ef3ea-278e-4293-a7e7-5aba5ec0ceb7",
   "metadata": {},
   "outputs": [
    {
     "name": "stdout",
     "output_type": "stream",
     "text": [
      "0 2 4 6 8 10 12 14 16 18 "
     ]
    }
   ],
   "source": [
    "for a in range(0,20,2): # Using range function with step parameter\n",
    "  print(a, end=\" \")"
   ]
  },
  {
   "cell_type": "markdown",
   "id": "4110f587-3407-48d1-bf30-c4d18c480574",
   "metadata": {},
   "source": [
    "## Odd Numbers"
   ]
  },
  {
   "cell_type": "code",
   "execution_count": 4,
   "id": "d7b83a57-1a22-4446-9808-5bf423352849",
   "metadata": {},
   "outputs": [
    {
     "name": "stdout",
     "output_type": "stream",
     "text": [
      "1 3 5 7 9 11 13 15 17 19 21 23 25 27 29 31 33 35 37 39 41 43 45 47 49 "
     ]
    }
   ],
   "source": [
    "for x in range (1, 50, 2):\n",
    "    print(x, end=\" \")"
   ]
  },
  {
   "cell_type": "markdown",
   "id": "adf30bdb-a747-4f17-b190-2771461fa475",
   "metadata": {},
   "source": [
    "## Arithmetic Sequence\n",
    "\n",
    "Write a program that shows the first five terms of the arithmetic sequence:\n",
    "0, 5, 10, 15, and 20."
   ]
  },
  {
   "cell_type": "code",
   "execution_count": 5,
   "id": "a36d7eca-d542-404c-9807-4c8cac26b764",
   "metadata": {},
   "outputs": [
    {
     "name": "stdout",
     "output_type": "stream",
     "text": [
      "1 6 11 16 21 26 31 36 41 46 "
     ]
    }
   ],
   "source": [
    "for i in range(1, 50, 5):\n",
    "    print(i, end=\" \")"
   ]
  },
  {
   "cell_type": "markdown",
   "id": "1e3420a7-debe-4223-818c-973813c6618f",
   "metadata": {},
   "source": [
    "# Table of n\n",
    "Write a program that takes an integer input by the user and prints a multiplication table for the first 10 multiples."
   ]
  },
  {
   "cell_type": "code",
   "execution_count": 7,
   "id": "de4d706c-a0e9-4df5-ad3e-5932e743c83a",
   "metadata": {},
   "outputs": [
    {
     "name": "stdin",
     "output_type": "stream",
     "text": [
      "Enter a number: 15\n"
     ]
    },
    {
     "name": "stdout",
     "output_type": "stream",
     "text": [
      "15 x 1 = 15\n",
      "15 x 2 = 30\n",
      "15 x 3 = 45\n",
      "15 x 4 = 60\n",
      "15 x 5 = 75\n",
      "15 x 6 = 90\n",
      "15 x 7 = 105\n",
      "15 x 8 = 120\n",
      "15 x 9 = 135\n",
      "15 x 10 = 150\n"
     ]
    }
   ],
   "source": [
    "num = int(input(\"Enter a number:\"))\n",
    "\n",
    "for i in range(1, 11):\n",
    "    print(num, \"x\", i, \"=\", num * i)"
   ]
  },
  {
   "cell_type": "markdown",
   "id": "bdeb2540-5601-4ba7-aff8-e8eeabb22d89",
   "metadata": {},
   "source": [
    "## Mean of n Inputs\n",
    "Write a program that calculates the average of the numbers that have been input by the user. The program first asks the user how many values they want to average. The number of values should be greater than 0."
   ]
  },
  {
   "cell_type": "code",
   "execution_count": 9,
   "id": "42cda505-113c-493f-93ef-b644d1c38ad0",
   "metadata": {},
   "outputs": [
    {
     "name": "stdin",
     "output_type": "stream",
     "text": [
      "Enter the number of numbers to input: 4\n",
      "Enter number:  10\n",
      "Enter number:  20\n",
      "Enter number:  30\n",
      "Enter number:  40\n"
     ]
    },
    {
     "name": "stdout",
     "output_type": "stream",
     "text": [
      "The average is: 25\n"
     ]
    }
   ],
   "source": [
    "input_count = int(input(\"Enter the number of numbers to input:\"))\n",
    "sum = 0\n",
    "\n",
    "for i in range(input_count):\n",
    "    sum += int(input(\"Enter number: \"))\n",
    "\n",
    "avg = sum // input_count\n",
    "\n",
    "print(\"The average is:\", avg)"
   ]
  },
  {
   "cell_type": "code",
   "execution_count": null,
   "id": "37167114-fed3-4861-ba89-b2c528e765ee",
   "metadata": {},
   "outputs": [],
   "source": []
  }
 ],
 "metadata": {
  "kernelspec": {
   "display_name": "Python 3 (ipykernel)",
   "language": "python",
   "name": "python3"
  },
  "language_info": {
   "codemirror_mode": {
    "name": "ipython",
    "version": 3
   },
   "file_extension": ".py",
   "mimetype": "text/x-python",
   "name": "python",
   "nbconvert_exporter": "python",
   "pygments_lexer": "ipython3",
   "version": "3.10.12"
  }
 },
 "nbformat": 4,
 "nbformat_minor": 5
}
