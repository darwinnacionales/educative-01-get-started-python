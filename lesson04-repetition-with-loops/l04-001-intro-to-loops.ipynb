{
 "cells": [
  {
   "cell_type": "markdown",
   "id": "7d99e400-c357-4c0b-9fad-6b16b76e9d13",
   "metadata": {},
   "source": [
    "# For Loop"
   ]
  },
  {
   "cell_type": "code",
   "execution_count": 1,
   "id": "41b7d500-b0a0-4639-9174-fa761d90074e",
   "metadata": {},
   "outputs": [
    {
     "name": "stdout",
     "output_type": "stream",
     "text": [
      "0\n",
      "1\n",
      "2\n",
      "3\n",
      "4\n"
     ]
    }
   ],
   "source": [
    "# Multiple print statements with help of variable a\n",
    "a = 0\n",
    "print(a)\n",
    "a = 1\n",
    "print(a)\n",
    "a = 2\n",
    "print(a)\n",
    "a = 3\n",
    "print(a)\n",
    "a = 4\n",
    "print(a)"
   ]
  },
  {
   "cell_type": "code",
   "execution_count": 2,
   "id": "7a77f047-d83b-410a-af87-480b97d30609",
   "metadata": {},
   "outputs": [
    {
     "name": "stdout",
     "output_type": "stream",
     "text": [
      "0\n",
      "1\n",
      "2\n",
      "3\n",
      "4\n"
     ]
    }
   ],
   "source": [
    "for a in [0,1,2,3,4]: # Accessing each value \n",
    "  print(a)"
   ]
  },
  {
   "cell_type": "code",
   "execution_count": 4,
   "id": "033ef3ea-278e-4293-a7e7-5aba5ec0ceb7",
   "metadata": {},
   "outputs": [
    {
     "name": "stdout",
     "output_type": "stream",
     "text": [
      "0\n",
      "2\n",
      "4\n",
      "6\n",
      "8\n"
     ]
    }
   ],
   "source": [
    "for a in [0,1,2,3,4]: # Accessing each value\n",
    "  e = a * 2 # Multiplying the value by 2\n",
    "  print(e)"
   ]
  },
  {
   "cell_type": "markdown",
   "id": "4110f587-3407-48d1-bf30-c4d18c480574",
   "metadata": {},
   "source": [
    "## Odd Numbers"
   ]
  },
  {
   "cell_type": "code",
   "execution_count": 3,
   "id": "d7b83a57-1a22-4446-9808-5bf423352849",
   "metadata": {},
   "outputs": [
    {
     "name": "stdout",
     "output_type": "stream",
     "text": [
      "1 3 5 7 9 "
     ]
    }
   ],
   "source": [
    "for x in range (1, 10):\n",
    "    if x % 2 != 0:\n",
    "        print(x, end=\" \")"
   ]
  },
  {
   "cell_type": "markdown",
   "id": "adf30bdb-a747-4f17-b190-2771461fa475",
   "metadata": {},
   "source": [
    "## Arithmetic Sequence\n",
    "\n",
    "Write a program that shows the first five terms of the arithmetic sequence:\n",
    "0, 5, 10, 15, and 20."
   ]
  },
  {
   "cell_type": "code",
   "execution_count": 8,
   "id": "a36d7eca-d542-404c-9807-4c8cac26b764",
   "metadata": {},
   "outputs": [
    {
     "name": "stdout",
     "output_type": "stream",
     "text": [
      "0 5 10 15 20 "
     ]
    }
   ],
   "source": [
    "for i in range(5):\n",
    "    print(i * 5, end=\" \")"
   ]
  }
 ],
 "metadata": {
  "kernelspec": {
   "display_name": "Python 3 (ipykernel)",
   "language": "python",
   "name": "python3"
  },
  "language_info": {
   "codemirror_mode": {
    "name": "ipython",
    "version": 3
   },
   "file_extension": ".py",
   "mimetype": "text/x-python",
   "name": "python",
   "nbconvert_exporter": "python",
   "pygments_lexer": "ipython3",
   "version": "3.10.12"
  }
 },
 "nbformat": 4,
 "nbformat_minor": 5
}
