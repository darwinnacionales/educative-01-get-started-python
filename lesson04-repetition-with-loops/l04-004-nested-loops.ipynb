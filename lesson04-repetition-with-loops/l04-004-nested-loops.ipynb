{
 "cells": [
  {
   "cell_type": "markdown",
   "id": "7d99e400-c357-4c0b-9fad-6b16b76e9d13",
   "metadata": {},
   "source": [
    "# Nested Loops"
   ]
  },
  {
   "cell_type": "markdown",
   "id": "ef646e9e-c7cb-4f69-9a39-794e5c380f6c",
   "metadata": {},
   "source": [
    "## Cartesian Product"
   ]
  },
  {
   "cell_type": "code",
   "execution_count": 2,
   "id": "2460632b-abee-4c01-ae17-376db193e945",
   "metadata": {},
   "outputs": [
    {
     "name": "stdout",
     "output_type": "stream",
     "text": [
      "a 1\ta 2\ta 3\tb 1\tb 2\tb 3\tc 1\tc 2\tc 3\t"
     ]
    }
   ],
   "source": [
    "for e in ['a', 'b', 'c']:\n",
    "    for m in [1, 2, 3]:\n",
    "        print(e, m, end=\"\\t\")"
   ]
  },
  {
   "cell_type": "markdown",
   "id": "501fe0bd-9a2c-404c-884e-db9fc1ab3399",
   "metadata": {},
   "source": [
    "## Ordered Pairs"
   ]
  },
  {
   "cell_type": "code",
   "execution_count": 4,
   "id": "b144e7cf-bf89-404b-9941-224da9e25e9d",
   "metadata": {},
   "outputs": [
    {
     "name": "stdout",
     "output_type": "stream",
     "text": [
      "( 1 , 1 )\t( 1 , 2 )\t( 1 , 3 )\t( 1 , 4 )\t( 1 , 5 )\t\n",
      "( 2 , 1 )\t( 2 , 2 )\t( 2 , 3 )\t( 2 , 4 )\t( 2 , 5 )\t\n",
      "( 3 , 1 )\t( 3 , 2 )\t( 3 , 3 )\t( 3 , 4 )\t( 3 , 5 )\t\n",
      "( 4 , 1 )\t( 4 , 2 )\t( 4 , 3 )\t( 4 , 4 )\t( 4 , 5 )\t\n",
      "( 5 , 1 )\t( 5 , 2 )\t( 5 , 3 )\t( 5 , 4 )\t( 5 , 5 )\t\n"
     ]
    }
   ],
   "source": [
    "for i in range(1, 6):\n",
    "    for j in range(1, 6):\n",
    "        print(\"(\",i,\",\",j,\")\", end=\"\\t\")\n",
    "    print()"
   ]
  },
  {
   "cell_type": "markdown",
   "id": "567eb395-f96c-46b9-b345-af37c78ccbc5",
   "metadata": {},
   "source": [
    "## Squares of Asterisks"
   ]
  },
  {
   "cell_type": "code",
   "execution_count": 5,
   "id": "3c8c11b5-d658-443c-80df-dd7966179a32",
   "metadata": {},
   "outputs": [
    {
     "name": "stdin",
     "output_type": "stream",
     "text": [
      "Enter the number: 5\n"
     ]
    },
    {
     "name": "stdout",
     "output_type": "stream",
     "text": [
      "*****\n",
      "*****\n",
      "*****\n",
      "*****\n",
      "*****\n"
     ]
    }
   ],
   "source": [
    "count = int(input(\"Enter the number:\"))\n",
    "\n",
    "for i in range(count):\n",
    "    print(\"*\"*count)"
   ]
  },
  {
   "cell_type": "markdown",
   "id": "6199b751-e104-4157-a544-407211f49ce8",
   "metadata": {},
   "source": [
    "## Rectangle of Asterisks"
   ]
  },
  {
   "cell_type": "code",
   "execution_count": 7,
   "id": "4cf21ef3-e3bc-4e18-9d4c-ee5fb44ca860",
   "metadata": {},
   "outputs": [
    {
     "name": "stdin",
     "output_type": "stream",
     "text": [
      "Enter the width: 8\n",
      "Enter the height: 5\n"
     ]
    },
    {
     "name": "stdout",
     "output_type": "stream",
     "text": [
      "********\n",
      "********\n",
      "********\n",
      "********\n",
      "********\n"
     ]
    }
   ],
   "source": [
    "width = int(input(\"Enter the width:\"))\n",
    "height = int(input(\"Enter the height:\"))\n",
    "\n",
    "for i in range(height):\n",
    "    print(\"*\"*width)"
   ]
  },
  {
   "cell_type": "markdown",
   "id": "3a43292e-c40a-4272-b06f-eb21ed38bbe1",
   "metadata": {},
   "source": [
    "## Right Triangle"
   ]
  },
  {
   "cell_type": "code",
   "execution_count": 8,
   "id": "d48f60b6-f7a1-433a-bb73-60a41d9d4f0f",
   "metadata": {},
   "outputs": [
    {
     "name": "stdin",
     "output_type": "stream",
     "text": [
      "Enter the number: 7\n"
     ]
    },
    {
     "name": "stdout",
     "output_type": "stream",
     "text": [
      "*\n",
      "**\n",
      "***\n",
      "****\n",
      "*****\n",
      "******\n",
      "*******\n"
     ]
    }
   ],
   "source": [
    "count = int(input(\"Enter the number:\"))\n",
    "\n",
    "for i in range(count):\n",
    "    print(\"*\" * (i+1))"
   ]
  },
  {
   "cell_type": "code",
   "execution_count": null,
   "id": "30b070c9-a7b0-443b-940b-6fc6d584c180",
   "metadata": {},
   "outputs": [],
   "source": []
  }
 ],
 "metadata": {
  "kernelspec": {
   "display_name": "Python 3 (ipykernel)",
   "language": "python",
   "name": "python3"
  },
  "language_info": {
   "codemirror_mode": {
    "name": "ipython",
    "version": 3
   },
   "file_extension": ".py",
   "mimetype": "text/x-python",
   "name": "python",
   "nbconvert_exporter": "python",
   "pygments_lexer": "ipython3",
   "version": "3.10.12"
  }
 },
 "nbformat": 4,
 "nbformat_minor": 5
}
