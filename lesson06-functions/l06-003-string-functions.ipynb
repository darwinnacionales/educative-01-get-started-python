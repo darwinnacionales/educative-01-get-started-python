{
 "cells": [
  {
   "cell_type": "markdown",
   "id": "0cc907da-1db1-4f22-8db9-e1aa1365948c",
   "metadata": {},
   "source": [
    "# is... methods"
   ]
  },
  {
   "cell_type": "code",
   "execution_count": 2,
   "id": "358630f1-51d6-476c-9e87-343a5ae2c8d3",
   "metadata": {},
   "outputs": [
    {
     "name": "stdout",
     "output_type": "stream",
     "text": [
      "True\n",
      "True\n",
      "True\n",
      "True\n",
      "True\n",
      "False\n",
      "True\n"
     ]
    }
   ],
   "source": [
    "print(\"a5\".isalnum())\n",
    "print(\"abc\".isalpha())\n",
    "print(\"5\".isdigit())\n",
    "print(\"abc\".islower())\n",
    "print(\"\\t\".isspace())\n",
    "print(\"Welcome to Educative\".istitle())\n",
    "print(\"EDUCATIVE\".isupper())"
   ]
  },
  {
   "cell_type": "markdown",
   "id": "f1182d7b-6f5b-45e5-a751-72aca6c9a41b",
   "metadata": {},
   "source": [
    "# Case Change Methods"
   ]
  },
  {
   "cell_type": "code",
   "execution_count": 3,
   "id": "1a7ee087-9af4-4bc2-afd1-3a1d91bc660e",
   "metadata": {},
   "outputs": [
    {
     "name": "stdout",
     "output_type": "stream",
     "text": [
      "Educative\n",
      "educative\n",
      "Educative\n",
      "Welcome To Educative\n",
      "EDUCATIVE\n"
     ]
    }
   ],
   "source": [
    "print(\"educative\".capitalize())\n",
    "print(\"EDUCATIVE\".lower())\n",
    "print(\"eDUCATIVE\".swapcase())\n",
    "print(\"welcome to educative\".title())\n",
    "print(\"educative\".upper())"
   ]
  },
  {
   "cell_type": "markdown",
   "id": "fc65c26f-197b-420d-af04-276cfd6a2d7b",
   "metadata": {},
   "source": [
    "# Search-related methods"
   ]
  },
  {
   "cell_type": "code",
   "execution_count": 4,
   "id": "c75659b2-0826-48f6-b7b0-4d4d08a1fddc",
   "metadata": {},
   "outputs": [
    {
     "name": "stdout",
     "output_type": "stream",
     "text": [
      "True\n",
      "0\n",
      "8\n",
      "2\n",
      "..E..ducativ..E..\n",
      "True\n"
     ]
    }
   ],
   "source": [
    "print(\"educative\".endswith('ve'))\n",
    "print(\"educative\".find('e'))\n",
    "print(\"educative\".rfind('e'))\n",
    "print(\"educative\".count('e'))\n",
    "print(\"educative\".replace('e','..E..'))\n",
    "print(\"educative\".startswith('edu'))"
   ]
  }
 ],
 "metadata": {
  "kernelspec": {
   "display_name": "Python 3 (ipykernel)",
   "language": "python",
   "name": "python3"
  },
  "language_info": {
   "codemirror_mode": {
    "name": "ipython",
    "version": 3
   },
   "file_extension": ".py",
   "mimetype": "text/x-python",
   "name": "python",
   "nbconvert_exporter": "python",
   "pygments_lexer": "ipython3",
   "version": "3.10.12"
  }
 },
 "nbformat": 4,
 "nbformat_minor": 5
}
