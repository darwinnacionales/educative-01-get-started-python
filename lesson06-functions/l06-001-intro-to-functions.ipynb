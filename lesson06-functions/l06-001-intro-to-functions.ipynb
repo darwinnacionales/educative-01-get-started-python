{
 "cells": [
  {
   "cell_type": "markdown",
   "id": "da752926-dfd0-47bb-b6b3-c2349fc8e434",
   "metadata": {},
   "source": [
    "# Functions"
   ]
  },
  {
   "cell_type": "code",
   "execution_count": 1,
   "id": "a626d4ec-f5ff-4ff6-ae4e-9f5f491bb8c6",
   "metadata": {},
   "outputs": [
    {
     "name": "stdout",
     "output_type": "stream",
     "text": [
      "Hello\n"
     ]
    }
   ],
   "source": [
    "def sayHello():\n",
    "    print('Hello')\n",
    "\n",
    "sayHello()"
   ]
  },
  {
   "cell_type": "code",
   "execution_count": 2,
   "id": "48650b55-18d0-406d-8c66-1d48fa9b8c72",
   "metadata": {},
   "outputs": [
    {
     "name": "stdout",
     "output_type": "stream",
     "text": [
      "Main program is starting here.\n",
      "Now inside the function \"first\".\n",
      "Back in main program.\n",
      "Now inside the function \"second\".\n",
      "Back in main program again.\n"
     ]
    }
   ],
   "source": [
    "def first():\n",
    "  print('Now inside the function \"first\".')\n",
    " \n",
    "def second():\n",
    "  print('Now inside the function \"second\".')\n",
    " \n",
    "print('Main program is starting here.')\n",
    "first() # calling first\n",
    "print('Back in main program.')\n",
    "second()# calling second\n",
    "print('Back in main program again.')"
   ]
  },
  {
   "cell_type": "code",
   "execution_count": 3,
   "id": "b983c02f-8cb5-4ab4-90a2-c2b969b5cb82",
   "metadata": {},
   "outputs": [
    {
     "name": "stdout",
     "output_type": "stream",
     "text": [
      "Main program is starting here.\n",
      "Now inside the function \"deep\".\n",
      "Now inside the function \"deeper\".\n",
      "Now back in \"deep\".\n",
      "Back in the main program.\n"
     ]
    }
   ],
   "source": [
    "def deeper() :\n",
    "   print('Now inside the function \"deeper\".')\n",
    " \n",
    "def deep() :\n",
    "   print('Now inside the function \"deep\".')\n",
    "   deeper(); # Call function deeper\n",
    "   print('Now back in \"deep\".')\n",
    " \n",
    "print('Main program is starting here.')\n",
    "deep() # Call function deep\n",
    "print('Back in the main program.')"
   ]
  },
  {
   "cell_type": "markdown",
   "id": "6cf03506-d371-4893-afe0-2166723a4f25",
   "metadata": {},
   "source": [
    "## Return Statement"
   ]
  },
  {
   "cell_type": "code",
   "execution_count": 4,
   "id": "1381cabd-7615-4afc-b262-4308359d1766",
   "metadata": {},
   "outputs": [
    {
     "name": "stdout",
     "output_type": "stream",
     "text": [
      "The sum is: 7\n"
     ]
    }
   ],
   "source": [
    "def getSum(a, b):\n",
    "    sum = a + b\n",
    "    return sum\n",
    "\n",
    "sum = getSum(5, 2)\n",
    "\n",
    "print(\"The sum is:\", sum)"
   ]
  },
  {
   "cell_type": "markdown",
   "id": "682705d2-796f-4ffd-9c46-6ce2ab54dc3c",
   "metadata": {},
   "source": [
    "---"
   ]
  },
  {
   "cell_type": "markdown",
   "id": "87ee0288-5624-4ffe-9fa4-96dcba929875",
   "metadata": {},
   "source": [
    "# Practice"
   ]
  },
  {
   "cell_type": "markdown",
   "id": "22b2c13a-f09d-49ff-b5a9-79f0719120d6",
   "metadata": {},
   "source": [
    "## Show Table of 4"
   ]
  },
  {
   "cell_type": "code",
   "execution_count": 6,
   "id": "fc15e262-8db0-4832-81fe-2e3ea3e89848",
   "metadata": {},
   "outputs": [
    {
     "name": "stdout",
     "output_type": "stream",
     "text": [
      "4 x 0 = 0\n",
      "4 x 1 = 4\n",
      "4 x 2 = 8\n",
      "4 x 3 = 12\n",
      "4 x 4 = 16\n",
      "4 x 5 = 20\n",
      "4 x 6 = 24\n",
      "4 x 7 = 28\n",
      "4 x 8 = 32\n",
      "4 x 9 = 36\n",
      "4 x 10 = 40\n",
      "4 x 11 = 44\n",
      "4 x 12 = 48\n",
      "4 x 13 = 52\n",
      "4 x 14 = 56\n"
     ]
    }
   ],
   "source": [
    "def multiplyBy4(idx):\n",
    "    prod = 4 * idx\n",
    "    print('4 x', idx, '=',prod)\n",
    "\n",
    "for i in range(15):\n",
    "    multiplyBy4(i)"
   ]
  },
  {
   "cell_type": "markdown",
   "id": "d5fbfc3d-ee20-45e4-8111-99a9f8c19f4a",
   "metadata": {},
   "source": [
    "## Function to Search for a String in a List"
   ]
  },
  {
   "cell_type": "code",
   "execution_count": 9,
   "id": "8cec68e4-e67a-4f03-a7b0-4f72cd32e12b",
   "metadata": {},
   "outputs": [
    {
     "name": "stdout",
     "output_type": "stream",
     "text": [
      "Found at: 2\n"
     ]
    }
   ],
   "source": [
    "def search(search_list, keyword):\n",
    "    res_idx = -1\n",
    "    for i in range(len(search_list)):\n",
    "        if keyword == search_list[i]:\n",
    "            res_idx = i\n",
    "            break\n",
    "\n",
    "    return res_idx\n",
    "\n",
    "search_list = ['2','55','888','9','30','45']\n",
    "keyword = '888'\n",
    "\n",
    "res = search(search_list, keyword)\n",
    "\n",
    "print(\"Found at:\", res)\n",
    "    "
   ]
  }
 ],
 "metadata": {
  "kernelspec": {
   "display_name": "Python 3 (ipykernel)",
   "language": "python",
   "name": "python3"
  },
  "language_info": {
   "codemirror_mode": {
    "name": "ipython",
    "version": 3
   },
   "file_extension": ".py",
   "mimetype": "text/x-python",
   "name": "python",
   "nbconvert_exporter": "python",
   "pygments_lexer": "ipython3",
   "version": "3.10.12"
  }
 },
 "nbformat": 4,
 "nbformat_minor": 5
}
