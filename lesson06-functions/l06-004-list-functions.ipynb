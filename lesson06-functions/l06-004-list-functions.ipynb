{
 "cells": [
  {
   "cell_type": "markdown",
   "id": "3d402430-73b3-4815-9ec6-1cd7bd675cb5",
   "metadata": {},
   "source": [
    "# The value-inserting methods"
   ]
  },
  {
   "cell_type": "code",
   "execution_count": 1,
   "id": "95763bad-8467-471c-9ee8-4006607f52bd",
   "metadata": {},
   "outputs": [
    {
     "name": "stdout",
     "output_type": "stream",
     "text": [
      "List a: [1, 2, 3]\n",
      "List b: [8, 9]\n",
      "\n",
      "Appending 4 in list a\n",
      "List a: [1, 2, 3, 4]\n",
      "\n",
      "Appending complete list b as sublist in a \n",
      "List a: [1, 2, 3, 4, [8, 9]]\n"
     ]
    }
   ],
   "source": [
    "a = [1,2,3]\n",
    "b = [8,9]\n",
    "print(\"List a:\",a)\n",
    "print(\"List b:\",b)\n",
    "\n",
    "print(\"\\nAppending 4 in list a\")\n",
    "a.append(4) # Appending 4 in list a\n",
    "print(\"List a:\",a)\n",
    "\n",
    "print(\"\\nAppending complete list b as sublist in a \")\n",
    "a.append(b) # Appending complete list b as sublist in a \n",
    "print(\"List a:\",a)"
   ]
  },
  {
   "cell_type": "markdown",
   "id": "0d20bb34-0887-495b-9e9f-3397a3069a42",
   "metadata": {},
   "source": [
    "# The value-removing methods"
   ]
  },
  {
   "cell_type": "code",
   "execution_count": 2,
   "id": "944e9631-818c-4238-b885-3ad89c2a4ce8",
   "metadata": {},
   "outputs": [
    {
     "name": "stdout",
     "output_type": "stream",
     "text": [
      "list d: [1, 2, 3, 4, 5, 6]\n",
      "\n",
      "Removing value at index 1 from list d using pop() function\n",
      "[1, 3, 4, 5, 6]\n",
      "\n",
      "Removing the value 3 from list d using remove() function\n",
      "[1, 4, 5, 6]\n",
      "\n",
      "Removing all values list d using clear() function\n",
      "[]\n"
     ]
    }
   ],
   "source": [
    "d = [1,2,3,4,5,6]\n",
    "print(\"list d:\",d)\n",
    "print(\"\\nRemoving value at index 1 from list d using pop() function\")\n",
    "d.pop(1) # Removing value at index 1 from list d using pop() function\n",
    "print(d)\n",
    "\n",
    "print(\"\\nRemoving the value 3 from list d using remove() function\")\n",
    "d.remove(3) # Removing the value 3 from list d using remove() function\n",
    "print(d)\n",
    "\n",
    "print(\"\\nRemoving all values list d using clear() function\")\n",
    "\n",
    "d.clear() # Removing all values list d using clear() function\n",
    "print(d)"
   ]
  },
  {
   "cell_type": "markdown",
   "id": "ea6fa0d7-731a-4c6c-b254-f5a94f2051bc",
   "metadata": {},
   "source": [
    "# The search-related methods"
   ]
  },
  {
   "cell_type": "code",
   "execution_count": 3,
   "id": "6db32e8c-928d-4bc0-8ed9-2785239136df",
   "metadata": {},
   "outputs": [
    {
     "name": "stdout",
     "output_type": "stream",
     "text": [
      "The original list: [1, 1, 3, 40, 4, 4, 4, 5]\n",
      "The number of 1s in the list: 2\n",
      "The index of 40 in the list: 3\n"
     ]
    }
   ],
   "source": [
    "e = [1,1,3,40,4,4,4,5]\n",
    "print('The original list:',e)\n",
    "print(\"The number of 1s in the list:\",e.count(1))\n",
    "print('The index of 40 in the list:',e.index(40))"
   ]
  },
  {
   "cell_type": "markdown",
   "id": "208b505d-8312-4a97-9a80-39ede492f909",
   "metadata": {},
   "source": [
    "# The arrangement-related methods"
   ]
  },
  {
   "cell_type": "code",
   "execution_count": 4,
   "id": "55145774-3050-4f26-92b5-7678b4dcded0",
   "metadata": {},
   "outputs": [
    {
     "name": "stdout",
     "output_type": "stream",
     "text": [
      "The original list: [1, 1, 30, 40, 4, 4, 40, 5]\n",
      "The list after reversing the elements: [5, 40, 4, 4, 40, 30, 1, 1]\n",
      "The list after sorting in increasing order: [1, 1, 4, 4, 5, 30, 40, 40]\n"
     ]
    }
   ],
   "source": [
    "f = [1,1,30,40,4,4,40,5]\n",
    "print('The original list:',f)\n",
    "f.reverse()\n",
    "print('The list after reversing the elements:',f)\n",
    "f.sort()\n",
    "print('The list after sorting in increasing order:',f)"
   ]
  },
  {
   "cell_type": "code",
   "execution_count": null,
   "id": "09241edd-3f76-49d1-87b0-29fb1aa11aa1",
   "metadata": {},
   "outputs": [],
   "source": []
  }
 ],
 "metadata": {
  "kernelspec": {
   "display_name": "Python 3 (ipykernel)",
   "language": "python",
   "name": "python3"
  },
  "language_info": {
   "codemirror_mode": {
    "name": "ipython",
    "version": 3
   },
   "file_extension": ".py",
   "mimetype": "text/x-python",
   "name": "python",
   "nbconvert_exporter": "python",
   "pygments_lexer": "ipython3",
   "version": "3.10.12"
  }
 },
 "nbformat": 4,
 "nbformat_minor": 5
}
