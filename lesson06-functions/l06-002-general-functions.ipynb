{
 "cells": [
  {
   "cell_type": "markdown",
   "id": "0c6f0955-bcdf-4e5f-af9b-b950ff14209c",
   "metadata": {},
   "source": [
    "# Quotient and Remainder Together"
   ]
  },
  {
   "cell_type": "code",
   "execution_count": 7,
   "id": "9782698c-f9ca-4f6c-b99a-c63fb387a2da",
   "metadata": {},
   "outputs": [
    {
     "name": "stdout",
     "output_type": "stream",
     "text": [
      "1\n",
      "(3, 1)\n",
      "Quotient: 3\n",
      "Remainder: 1\n"
     ]
    }
   ],
   "source": [
    "print(13 % 3)\n",
    "print(divmod(13,4))\n",
    "\n",
    "q , r = divmod(13 , 4)\n",
    "print('Quotient:',q)\n",
    "print('Remainder:',r)"
   ]
  },
  {
   "cell_type": "markdown",
   "id": "c487ff5a-9711-42d8-968d-68b15be373a0",
   "metadata": {},
   "source": [
    "# Reversed Order"
   ]
  },
  {
   "cell_type": "code",
   "execution_count": 8,
   "id": "fdea2e5b-7ed9-42bd-9c81-1642694e457e",
   "metadata": {},
   "outputs": [
    {
     "name": "stdout",
     "output_type": "stream",
     "text": [
      "3 2 1 "
     ]
    }
   ],
   "source": [
    "for a in reversed([1,2,3]):\n",
    "    print(a, end=\" \")"
   ]
  },
  {
   "cell_type": "code",
   "execution_count": 10,
   "id": "ab8ced1e-11fd-47a4-9ff7-bcf19da4a15f",
   "metadata": {},
   "outputs": [
    {
     "name": "stdout",
     "output_type": "stream",
     "text": [
      "b i n "
     ]
    }
   ],
   "source": [
    "for b in reversed(\"nib\"):\n",
    "   print(b, end=\" \")"
   ]
  },
  {
   "cell_type": "markdown",
   "id": "1cfc2fc9-b453-4a96-8665-a288d26dcd17",
   "metadata": {},
   "source": [
    "# Rounding Off"
   ]
  },
  {
   "cell_type": "code",
   "execution_count": 11,
   "id": "266ad657-c00d-4577-8cfd-76520d796e22",
   "metadata": {},
   "outputs": [
    {
     "name": "stdout",
     "output_type": "stream",
     "text": [
      "value\tfloor\tceiling\teven-rounded:\n",
      "3.0 \t 3 \t 3 \t 3\n",
      "3.1 \t 3 \t 4 \t 3\n",
      "3.2 \t 3 \t 4 \t 3\n",
      "3.3 \t 3 \t 4 \t 3\n",
      "3.4 \t 3 \t 4 \t 3\n",
      "3.5 \t 3 \t 4 \t 4\n",
      "3.6 \t 3 \t 4 \t 4\n",
      "3.7 \t 3 \t 4 \t 4\n",
      "3.8 \t 3 \t 4 \t 4\n",
      "3.9 \t 3 \t 4 \t 4\n",
      "4.0 \t 4 \t 4 \t 4\n",
      "4.1 \t 4 \t 5 \t 4\n",
      "4.2 \t 4 \t 5 \t 4\n",
      "4.3 \t 4 \t 5 \t 4\n",
      "4.4 \t 4 \t 5 \t 4\n",
      "4.5 \t 4 \t 5 \t 4\n",
      "4.6 \t 4 \t 5 \t 5\n"
     ]
    }
   ],
   "source": [
    "print('value\\tfloor\\tceiling\\teven-rounded:')\n",
    "for tentimes in range(30,47):\n",
    "    c = tentimes / 10\n",
    "    print(c,'\\t',round(c-0.49),'\\t',round(c+0.49),'\\t',round(c))"
   ]
  },
  {
   "cell_type": "markdown",
   "id": "5a75900c-6cae-4f75-b9fc-c4f3278c06f9",
   "metadata": {},
   "source": [
    "# Radix Converter"
   ]
  },
  {
   "cell_type": "code",
   "execution_count": 14,
   "id": "0b048319-dc8f-48b3-aa06-8f172d6b92de",
   "metadata": {},
   "outputs": [
    {
     "name": "stdin",
     "output_type": "stream",
     "text": [
      "Enter source number in decimal 5\n",
      "Enter target radix (2 or 16): 16\n"
     ]
    },
    {
     "name": "stdout",
     "output_type": "stream",
     "text": [
      "0x5\n"
     ]
    }
   ],
   "source": [
    "source_num = int(input(\"Enter source number in decimal\"))\n",
    "target_radix = int(input(\"Enter target radix (2 or 16):\"))\n",
    "\n",
    "if target_radix not in [2, 16]:\n",
    "    print(\"Invalid input\")\n",
    "else:\n",
    "    if target_radix == 2:\n",
    "        print(bin(source_num))\n",
    "    else:\n",
    "        print(hex(source_num))\n"
   ]
  },
  {
   "cell_type": "markdown",
   "id": "900457bd-19ca-48c6-a8a4-437269313728",
   "metadata": {},
   "source": [
    "# Sorting"
   ]
  },
  {
   "cell_type": "code",
   "execution_count": 15,
   "id": "1f082400-7a6e-44e7-b206-355747cbca86",
   "metadata": {},
   "outputs": [
    {
     "name": "stdout",
     "output_type": "stream",
     "text": [
      "Original list of numbers: [4, 2, 5, 4]\n",
      "Sorted list of numbers: [2, 4, 4, 5]\n",
      "\n",
      "Original string: zigZAG\n",
      "Sorted list of alphabets: ['A', 'G', 'Z', 'g', 'i', 'z']\n"
     ]
    }
   ],
   "source": [
    "nums = [4,2,5,4]\n",
    "print('Original list of numbers:',nums)\n",
    "print('Sorted list of numbers:',sorted(nums))\n",
    "\n",
    "alphs = 'zigZAG'\n",
    "print('\\nOriginal string:',alphs)\n",
    "print('Sorted list of alphabets:',sorted(alphs))"
   ]
  }
 ],
 "metadata": {
  "kernelspec": {
   "display_name": "Python 3 (ipykernel)",
   "language": "python",
   "name": "python3"
  },
  "language_info": {
   "codemirror_mode": {
    "name": "ipython",
    "version": 3
   },
   "file_extension": ".py",
   "mimetype": "text/x-python",
   "name": "python",
   "nbconvert_exporter": "python",
   "pygments_lexer": "ipython3",
   "version": "3.10.12"
  }
 },
 "nbformat": 4,
 "nbformat_minor": 5
}
